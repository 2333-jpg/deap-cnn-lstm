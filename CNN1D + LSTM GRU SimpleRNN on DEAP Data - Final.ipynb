{
 "cells": [
  {
   "cell_type": "code",
   "execution_count": 1,
   "id": "0d2b318c",
   "metadata": {},
   "outputs": [],
   "source": [
    "import numpy as np\n",
    "import pickle as pickle\n",
    "import pandas as pd\n",
    "import math\n",
    "import seaborn as sns\n",
    "\n",
    "import matplotlib.pyplot as plt\n",
    "\n",
    "import pyeeg as pe\n",
    "import pywt\n",
    "\n",
    "from sklearn import svm\n",
    "from sklearn.preprocessing import normalize\n",
    "\n",
    "import os\n",
    "import time"
   ]
  },
  {
   "cell_type": "code",
   "execution_count": 27,
   "id": "27afad3c",
   "metadata": {},
   "outputs": [],
   "source": [
    "import tensorflow as tf\n",
    "import keras\n",
    "\n",
    "from tensorflow.keras.utils import to_categorical \n",
    "\n",
    "from keras.models import Sequential\n",
    "from keras.models import load_model\n",
    "\n",
    "from keras.layers import Conv1D, MaxPooling1D\n",
    "from keras.layers import BatchNormalization, Activation, Dropout, Flatten, Dense\n",
    "\n",
    "from keras.layers import Bidirectional, TimeDistributed\n",
    "from keras.layers import LSTM, GRU, SimpleRNN\n",
    "\n",
    "from sklearn.model_selection import train_test_split\n",
    "from sklearn.preprocessing import StandardScaler\n",
    "\n",
    "from tensorflow.keras.regularizers import l2\n",
    "\n",
    "from sklearn.metrics import confusion_matrix, classification_report"
   ]
  },
  {
   "cell_type": "markdown",
   "id": "f7761bf0",
   "metadata": {},
   "source": [
    "# Datasets Preparation"
   ]
  },
  {
   "cell_type": "markdown",
   "id": "7bd14df8",
   "metadata": {},
   "source": [
    "## Data Preprocessing"
   ]
  },
  {
   "cell_type": "markdown",
   "id": "f9b61bbe",
   "metadata": {},
   "source": [
    "### Epoching + Label Mapping"
   ]
  },
  {
   "cell_type": "code",
   "execution_count": 45,
   "id": "f90d586a",
   "metadata": {},
   "outputs": [],
   "source": [
    "# https://arxiv.org/pdf/1911.12918.pdf\n",
    "\n",
    "def label_mapping(valence, arousal):\n",
    "    # HVHA, HVLA, LVHA, and LVLA\n",
    "    \n",
    "    if (valence > 5 and arousal > 5):\n",
    "        label = 0 #'HVHA'\n",
    "    elif (valence > 5 and arousal <= 5):\n",
    "        label = 1 #'HVLA'\n",
    "    elif (valence <= 5 and arousal > 5):\n",
    "        label = 2 #'LVHA'\n",
    "    elif (valence <= 5 and arousal <= 5):\n",
    "        label = 3 #'LVLA'\n",
    "    \n",
    "    return label"
   ]
  },
  {
   "cell_type": "code",
   "execution_count": 46,
   "id": "1662d49c",
   "metadata": {},
   "outputs": [],
   "source": [
    "def map_label(label):\n",
    "    new_label = label_mapping(label[0], label[1]) \n",
    "    return new_label"
   ]
  },
  {
   "cell_type": "code",
   "execution_count": 148,
   "id": "6b468d6d",
   "metadata": {},
   "outputs": [
    {
     "name": "stdout",
     "output_type": "stream",
     "text": [
      "[0, 1, 2, 3, 4, 5, 6, 7, 8, 9, 10, 11, 12, 13, 14, 15, 16, 17, 18, 19, 20, 21, 22, 23, 24, 25, 26, 27, 28, 29, 30, 31, 32]\n"
     ]
    }
   ],
   "source": [
    "chan = [0, 1, 2, 3, 4, 5, 6, 7, 8, 9, 10, 11, 12, 13, 14, 15, 16, 17, 18, 19, 20,\n",
    "       21, 22, 23, 24, 25, 26, 27, 28, 29, 30, 31, 32]\n",
    "print(chan)"
   ]
  },
  {
   "cell_type": "code",
   "execution_count": 149,
   "id": "51a07e17",
   "metadata": {},
   "outputs": [],
   "source": [
    "# https://sci-hub.se/https://ieeexplore.ieee.org/document/8856854\n",
    "\n",
    "#F3,F7,T7,P7,O1,F4,F8,T8,P8,O2\n",
    "# channel = [2,3,7,11,13,19,20,25,29,31]\n",
    "#AF3 1, F3 2, F7 3, FC5 4, T7 7, P7 11, O1 13, O2 31, P8 29, T8 25, FC6 21, F4 19, F8 20, AF4 17\n",
    "channel = [1,2,3,4,7,11,13,17,19,20,21,25,29,31]\n",
    "channel_test = [0, 16] # Fp1, Fp2\n",
    "\n",
    "window_size = 256 #Averaging band power of 2 sec\n",
    "step_size = 256 #Each 1 sec update once\n",
    "subject_list = [\n",
    "    '01','02','03','04','05','06','07','08','09','10'\n",
    "    ,'11','12','13','14','15','16','17','18','19','20'\n",
    "    ,'21','22','23','24','25','26','27','28','29','30'\n",
    "    ,'31','32'\n",
    "]\n",
    "\n",
    "subject_train = [\n",
    "    '01','02','03','04','05','06','07','08','09','10'\n",
    "    ,'11','12','13','14','15','16','17','18','19','20'\n",
    "    ,'21','22','23','24','25'\n",
    "]\n",
    "\n",
    "subject_val = ['26','27','28','29','30']\n",
    "subject_test = ['31','32']"
   ]
  },
  {
   "cell_type": "code",
   "execution_count": 150,
   "id": "4d77457e",
   "metadata": {},
   "outputs": [],
   "source": [
    "def epoching (sub, channel, window_size, step_size):\n",
    "    \n",
    "    signal = []\n",
    "    with open(\"C:\\.Farhad\\.Telkom\\Emotion Recognition\\Datasets\\DEAP\\data_preprocessed_python\\s\" + sub + '.dat', 'rb') as file:\n",
    "\n",
    "        subject = pickle.load(file, encoding='latin1') #resolve the python 2 data problem by encoding : latin1\n",
    "\n",
    "        for i in range (0,40):\n",
    "            # loop over 0-39 trials\n",
    "            data = subject[\"data\"][i]\n",
    "            labels = subject[\"labels\"][i]\n",
    "            labels = np.array(map_label(labels))\n",
    "            start = 0;\n",
    "\n",
    "            while start + window_size <= data.shape[1]:\n",
    "                array = []\n",
    "                for j in channel:\n",
    "                    X = data[j][start : start + window_size] #Slice raw data over 2 sec, at interval of 1 sec\n",
    "                    array.append(np.array(X))\n",
    "                    array.append(np.array(labels))\n",
    "                    signal.append(np.array(array))\n",
    "  \n",
    "                start = start + step_size\n",
    "                \n",
    "        signal = np.array(signal)\n",
    "        np.save('C:\\\\.Farhad\\\\.Telkom\\\\Emotion Recognition\\\\Datasets\\\\DEAP\\\\all\\\\s' + sub, signal, allow_pickle=True, fix_imports=True)\n",
    "#         np.save('C:\\\\.Farhad\\\\.Telkom\\\\Emotion Recognition\\\\Datasets\\\\DEAP\\\\train\\\\s' + sub, signal, allow_pickle=True, fix_imports=True)\n",
    "#         np.save('C:\\\\.Farhad\\\\.Telkom\\\\Emotion Recognition\\\\Datasets\\\\DEAP\\\\val\\\\s' + sub, signal, allow_pickle=True, fix_imports=True)\n",
    "#         np.save('C:\\\\.Farhad\\\\.Telkom\\\\Emotion Recognition\\\\Datasets\\\\DEAP\\\\test\\\\s' + sub, signal, allow_pickle=True, fix_imports=True)\n",
    "            "
   ]
  },
  {
   "cell_type": "code",
   "execution_count": 151,
   "id": "3abe3daa",
   "metadata": {},
   "outputs": [
    {
     "name": "stderr",
     "output_type": "stream",
     "text": [
      "C:\\Users\\zaman\\anaconda3\\envs\\tf-gpu\\lib\\site-packages\\ipykernel_launcher.py:21: VisibleDeprecationWarning: Creating an ndarray from ragged nested sequences (which is a list-or-tuple of lists-or-tuples-or ndarrays with different lengths or shapes) is deprecated. If you meant to do this, you must specify 'dtype=object' when creating the ndarray\n",
      "C:\\Users\\zaman\\anaconda3\\envs\\tf-gpu\\lib\\site-packages\\ipykernel_launcher.py:25: VisibleDeprecationWarning: Creating an ndarray from ragged nested sequences (which is a list-or-tuple of lists-or-tuples-or ndarrays with different lengths or shapes) is deprecated. If you meant to do this, you must specify 'dtype=object' when creating the ndarray\n"
     ]
    },
    {
     "name": "stdout",
     "output_type": "stream",
     "text": [
      "01\n",
      "02\n",
      "03\n",
      "04\n",
      "05\n",
      "06\n",
      "07\n",
      "08\n",
      "09\n",
      "10\n",
      "11\n",
      "12\n",
      "13\n",
      "14\n",
      "15\n",
      "16\n",
      "17\n",
      "18\n",
      "19\n",
      "20\n",
      "21\n",
      "22\n",
      "23\n",
      "24\n",
      "25\n",
      "26\n",
      "27\n",
      "28\n",
      "29\n",
      "30\n",
      "31\n",
      "32\n"
     ]
    }
   ],
   "source": [
    "for subjects in subject_list:\n",
    "    epoching (subjects, channel, window_size, step_size)\n",
    "    print(subjects)"
   ]
  },
  {
   "cell_type": "code",
   "execution_count": 43,
   "id": "f8d51a8a",
   "metadata": {},
   "outputs": [],
   "source": [
    "with open('C:\\\\.Farhad\\\\.Telkom\\\\Emotion Recognition\\\\Datasets\\\\DEAP\\\\train\\\\s01' + '.npy', 'rb') as file:\n",
    "    sub = np.load(file,allow_pickle=True)"
   ]
  },
  {
   "cell_type": "code",
   "execution_count": 44,
   "id": "7d4119d4",
   "metadata": {},
   "outputs": [
    {
     "name": "stdout",
     "output_type": "stream",
     "text": [
      "(24800,)\n",
      "(2,)\n",
      "(256,)\n",
      "()\n"
     ]
    }
   ],
   "source": [
    "print(sub.shape)\n",
    "print(sub[0].shape)\n",
    "print(sub[0][0].shape)\n",
    "print(sub[0][1].shape)"
   ]
  },
  {
   "cell_type": "markdown",
   "id": "8749125b",
   "metadata": {},
   "source": [
    "# [Deprecated] Data Preparation"
   ]
  },
  {
   "cell_type": "code",
   "execution_count": 55,
   "id": "f15ae5ec",
   "metadata": {},
   "outputs": [],
   "source": [
    "def balancer(X, Y):\n",
    "    count0 = 0\n",
    "    count1 = 0\n",
    "    count2 = 0\n",
    "    count3 = 0\n",
    "    \n",
    "    unique, counts = np.unique(Y, return_counts=True)\n",
    "    label_dist = dict(zip(unique, counts))\n",
    "\n",
    "    len_data = min(label_dist.values())\n",
    "\n",
    "    x_train = []\n",
    "    y_train = []\n",
    "\n",
    "    for i in range(len(Y)):\n",
    "        if (Y[i] == 0):\n",
    "            if (count0 < len_data):\n",
    "                x_train.append(np.array(X[i]))\n",
    "                y_train.append(np.array(Y[i]))\n",
    "                count0 = count0 + 1\n",
    "            else:\n",
    "                pass\n",
    "        elif (Y[i] == 1):\n",
    "            if (count1 < len_data):\n",
    "                x_train.append(np.array(X[i]))\n",
    "                y_train.append(np.array(Y[i]))\n",
    "                count1 = count1 + 1\n",
    "            else:\n",
    "                pass\n",
    "        elif (Y[i] == 2):\n",
    "            if (count2 < len_data):\n",
    "                x_train.append(np.array(X[i]))\n",
    "                y_train.append(np.array(Y[i]))\n",
    "                count2 = count2 + 1\n",
    "            else:\n",
    "                pass\n",
    "        elif (Y[i] == 3):\n",
    "            if (count3 < len_data):\n",
    "                x_train.append(np.array(X[i]))\n",
    "                y_train.append(np.array(Y[i]))\n",
    "                count3 = count3 + 1\n",
    "            else:\n",
    "                pass\n",
    "\n",
    "    x_train = np.array(x_train)\n",
    "    y_train = np.array(y_train)\n",
    "    \n",
    "    return x_train, y_train"
   ]
  },
  {
   "cell_type": "markdown",
   "id": "30021d88",
   "metadata": {},
   "source": [
    "## Train Dataset"
   ]
  },
  {
   "cell_type": "code",
   "execution_count": 124,
   "id": "e6f5e3f7",
   "metadata": {},
   "outputs": [
    {
     "name": "stdout",
     "output_type": "stream",
     "text": [
      "Training datasets: (310000, 256) (310000, 4)\n"
     ]
    }
   ],
   "source": [
    "data = []\n",
    "label = []\n",
    "\n",
    "for subjects in subject_train:\n",
    "\n",
    "    with open('C:\\\\.Farhad\\\\.Telkom\\\\Emotion Recognition\\\\Datasets\\\\DEAP\\\\train\\\\s' + subjects + '.npy', 'rb') as file:\n",
    "        sub = np.load(file,allow_pickle=True)\n",
    "        for i in range (0,sub.shape[0]):\n",
    "                data.append(sub[i][0])\n",
    "                label.append(sub[i][1])\n",
    "\n",
    "# x_train, y_train = balancer(data, label)\n",
    "x_train = data\n",
    "y_train = to_categorical(label)\n",
    "\n",
    "np.save('C:\\\\.Farhad\\\\.Telkom\\\\Emotion Recognition\\\\Datasets\\\\DEAP\\\\x_train', np.array(x_train), allow_pickle=True, fix_imports=True)\n",
    "np.save('C:\\\\.Farhad\\\\.Telkom\\\\Emotion Recognition\\\\Datasets\\\\DEAP\\\\y_train', np.array(y_train), allow_pickle=True, fix_imports=True)\n",
    "print(\"Training datasets:\", np.array(x_train).shape, np.array(y_train).shape)\n",
    "# print(\"Training datasets:\", np.array(data).shape, np.array(label).shape)"
   ]
  },
  {
   "cell_type": "code",
   "execution_count": 125,
   "id": "28c69ab5",
   "metadata": {},
   "outputs": [
    {
     "name": "stdout",
     "output_type": "stream",
     "text": [
      "{0: 102920, 1: 62620, 2: 78430, 3: 66030}\n",
      "{0: 102920, 1: 62620, 2: 78430, 3: 66030}\n"
     ]
    }
   ],
   "source": [
    "unique, counts = np.unique(label, return_counts=True)\n",
    "label_dist = dict(zip(unique, counts))\n",
    "print(label_dist)\n",
    "\n",
    "y = []\n",
    "for i in range(len(y_train)):\n",
    "    y.append(np.argmax(y_train[i]))\n",
    "\n",
    "unique, counts = np.unique(y, return_counts=True)\n",
    "label_dist = dict(zip(unique, counts))\n",
    "print(label_dist)"
   ]
  },
  {
   "cell_type": "markdown",
   "id": "53ea6fce",
   "metadata": {},
   "source": [
    "## Validation Dataset"
   ]
  },
  {
   "cell_type": "code",
   "execution_count": 126,
   "id": "2f4a44a1",
   "metadata": {},
   "outputs": [
    {
     "name": "stdout",
     "output_type": "stream",
     "text": [
      "Validation datasets: (62000, 256) (62000, 4)\n"
     ]
    }
   ],
   "source": [
    "data = []\n",
    "label = []\n",
    "\n",
    "for subjects in subject_val:\n",
    "\n",
    "    with open('C:\\\\.Farhad\\\\.Telkom\\\\Emotion Recognition\\\\Datasets\\\\DEAP\\\\val\\\\s' + subjects + '.npy', 'rb') as file:\n",
    "        sub = np.load(file,allow_pickle=True)\n",
    "        for i in range (0,sub.shape[0]):\n",
    "                data.append(sub[i][0])\n",
    "                label.append(sub[i][1])\n",
    "\n",
    "# x_val, y_val = balancer(data, label)\n",
    "x_val = data\n",
    "y_val = to_categorical(label)\n",
    "\n",
    "np.save('C:\\\\.Farhad\\.Telkom\\Emotion Recognition\\Datasets\\\\DEAP\\\\x_val', np.array(x_val), allow_pickle=True, fix_imports=True)\n",
    "np.save('C:\\\\.Farhad\\.Telkom\\\\Emotion Recognition\\\\Datasets\\\\DEAP\\\\y_val', np.array(y_val), allow_pickle=True, fix_imports=True)\n",
    "print(\"Validation datasets:\", np.array(x_val).shape, np.array(y_val).shape)"
   ]
  },
  {
   "cell_type": "code",
   "execution_count": 127,
   "id": "c083c936",
   "metadata": {},
   "outputs": [
    {
     "name": "stdout",
     "output_type": "stream",
     "text": [
      "{0: 27900, 1: 12710, 2: 4960, 3: 16430}\n",
      "{0: 27900, 1: 12710, 2: 4960, 3: 16430}\n"
     ]
    }
   ],
   "source": [
    "unique, counts = np.unique(label, return_counts=True)\n",
    "label_dist = dict(zip(unique, counts))\n",
    "print(label_dist)\n",
    "\n",
    "y = []\n",
    "for i in range(len(y_val)):\n",
    "    y.append(np.argmax(y_val[i]))\n",
    "\n",
    "unique, counts = np.unique(y, return_counts=True)\n",
    "label_dist = dict(zip(unique, counts))\n",
    "print(label_dist)"
   ]
  },
  {
   "cell_type": "markdown",
   "id": "3001c221",
   "metadata": {},
   "source": [
    "## Test Dataset"
   ]
  },
  {
   "cell_type": "code",
   "execution_count": 128,
   "id": "69266b42",
   "metadata": {},
   "outputs": [
    {
     "name": "stdout",
     "output_type": "stream",
     "text": [
      "Testing datasets: (24800, 256) (24800, 4)\n"
     ]
    }
   ],
   "source": [
    "data = []\n",
    "label = []\n",
    "\n",
    "for subjects in subject_test:\n",
    "\n",
    "    with open('C:\\\\.Farhad\\\\.Telkom\\\\Emotion Recognition\\\\Datasets\\\\DEAP\\\\test\\\\s' + subjects + '.npy', 'rb') as file:\n",
    "        sub = np.load(file,allow_pickle=True)\n",
    "        for i in range (0,sub.shape[0]):\n",
    "                data.append(sub[i][0])\n",
    "                label.append(sub[i][1])\n",
    "\n",
    "# x_test, y_test = balancer(data, label)\n",
    "x_test = data\n",
    "y_test = to_categorical(label)\n",
    "\n",
    "np.save('C:\\\\.Farhad\\\\.Telkom\\\\Emotion Recognition\\\\Datasets\\\\DEAP\\\\x_test', np.array(x_test), allow_pickle=True, fix_imports=True)\n",
    "np.save('C:\\\\.Farhad\\\\.Telkom\\\\Emotion Recognition\\\\Datasets\\\\DEAP\\\\y_test', np.array(y_test), allow_pickle=True, fix_imports=True)\n",
    "print(\"Testing datasets:\", np.array(x_test).shape, np.array(y_test).shape)"
   ]
  },
  {
   "cell_type": "code",
   "execution_count": 129,
   "id": "03fffdc3",
   "metadata": {},
   "outputs": [
    {
     "name": "stdout",
     "output_type": "stream",
     "text": [
      "{0: 5270, 1: 8060, 2: 8990, 3: 2480}\n",
      "{0: 5270, 1: 8060, 2: 8990, 3: 2480}\n"
     ]
    }
   ],
   "source": [
    "unique, counts = np.unique(label, return_counts=True)\n",
    "label_dist = dict(zip(unique, counts))\n",
    "print(label_dist)\n",
    "\n",
    "y = []\n",
    "for i in range(len(y_test)):\n",
    "    y.append(np.argmax(y_test[i]))\n",
    "\n",
    "unique, counts = np.unique(y, return_counts=True)\n",
    "label_dist = dict(zip(unique, counts))\n",
    "print(label_dist)"
   ]
  },
  {
   "cell_type": "code",
   "execution_count": 122,
   "id": "5aaeb04f",
   "metadata": {},
   "outputs": [],
   "source": [
    "with open('C:\\\\.Farhad\\\\.Telkom\\\\Emotion Recognition\\\\Datasets\\\\DEAP\\\\x_train.npy', 'rb') as file:\n",
    "    x_train = np.load(file, allow_pickle=True)\n",
    "with open('C:\\\\.Farhad\\\\.Telkom\\\\Emotion Recognition\\\\Datasets\\\\DEAP\\\\y_train.npy', 'rb') as file:\n",
    "    y_train = np.load(file, allow_pickle=True)\n",
    "with open('C:\\\\.Farhad\\\\.Telkom\\\\Emotion Recognition\\\\Datasets\\\\DEAP\\\\x_val.npy', 'rb') as file:\n",
    "    x_val = np.load(file, allow_pickle=True)\n",
    "with open('C:\\\\.Farhad\\\\.Telkom\\\\Emotion Recognition\\\\Datasets\\\\DEAP\\\\y_val.npy', 'rb') as file:\n",
    "    y_val = np.load(file, allow_pickle=True)\n",
    "with open('C:\\\\.Farhad\\\\.Telkom\\\\Emotion Recognition\\\\Datasets\\\\DEAP\\\\x_test.npy', 'rb') as file:\n",
    "    x_test = np.load(file, allow_pickle=True)\n",
    "with open('C:\\\\.Farhad\\\\.Telkom\\\\Emotion Recognition\\\\Datasets\\\\DEAP\\\\y_test.npy', 'rb') as file:\n",
    "    y_test = np.load(file, allow_pickle=True)"
   ]
  },
  {
   "cell_type": "code",
   "execution_count": 123,
   "id": "36840ccb",
   "metadata": {},
   "outputs": [
    {
     "name": "stdout",
     "output_type": "stream",
     "text": [
      "(310000, 256)\n",
      "(250480, 4, 2)\n",
      "(62000, 256)\n",
      "(19840, 4, 2)\n",
      "(24800, 256)\n",
      "(24800, 4)\n"
     ]
    }
   ],
   "source": [
    "print(x_train.shape)\n",
    "print(y_train.shape)\n",
    "print(x_val.shape)\n",
    "print(y_val.shape)\n",
    "print(x_test.shape)\n",
    "print(y_test.shape)"
   ]
  },
  {
   "cell_type": "code",
   "execution_count": 72,
   "id": "5966313e",
   "metadata": {},
   "outputs": [
    {
     "data": {
      "text/plain": [
       "array([[1., 0., 0., 0.],\n",
       "       [1., 0., 0., 0.],\n",
       "       [1., 0., 0., 0.],\n",
       "       ...,\n",
       "       [0., 0., 0., 1.],\n",
       "       [0., 0., 0., 1.],\n",
       "       [0., 0., 0., 1.]], dtype=float32)"
      ]
     },
     "execution_count": 72,
     "metadata": {},
     "output_type": "execute_result"
    }
   ],
   "source": [
    "y_train"
   ]
  },
  {
   "cell_type": "code",
   "execution_count": 75,
   "id": "fa6a8cbb",
   "metadata": {},
   "outputs": [
    {
     "data": {
      "text/plain": [
       "{0: 10540, 1: 16120, 2: 17980, 3: 4960}"
      ]
     },
     "execution_count": 75,
     "metadata": {},
     "output_type": "execute_result"
    }
   ],
   "source": [
    "y = []\n",
    "\n",
    "for i in range(len(y_test)):\n",
    "    y.append(np.argmax(y_test[i]))\n",
    "\n",
    "unique, counts = np.unique(y, return_counts=True)\n",
    "label_dist = dict(zip(unique, counts))\n",
    "label_dist"
   ]
  },
  {
   "cell_type": "markdown",
   "id": "cb7e1b8d",
   "metadata": {},
   "source": [
    "# [Fixed] Data Preparation"
   ]
  },
  {
   "cell_type": "markdown",
   "id": "a041527d",
   "metadata": {},
   "source": [
    "## Combine Data"
   ]
  },
  {
   "cell_type": "code",
   "execution_count": 153,
   "id": "9109d98b",
   "metadata": {},
   "outputs": [
    {
     "name": "stdout",
     "output_type": "stream",
     "text": [
      "Training datasets: (555520, 256) (555520,)\n"
     ]
    }
   ],
   "source": [
    "data = []\n",
    "label = []\n",
    "\n",
    "for subjects in subject_list:\n",
    "\n",
    "    with open('C:\\\\.Farhad\\\\.Telkom\\\\Emotion Recognition\\\\Datasets\\\\DEAP\\\\all\\\\s' + subjects + '.npy', 'rb') as file:\n",
    "        sub = np.load(file,allow_pickle=True)\n",
    "        for i in range (0,sub.shape[0]):\n",
    "            data.append(sub[i][0])\n",
    "            label.append(sub[i][1])\n",
    "\n",
    "np.save('C:\\\\.Farhad\\\\.Telkom\\\\Emotion Recognition\\\\Datasets\\DEAP\\\\all\\\\data', np.array(data), allow_pickle=True, fix_imports=True)\n",
    "np.save('C:\\\\.Farhad\\\\.Telkom\\\\Emotion Recognition\\\\Datasets\\DEAP\\\\all\\\\label', np.array(label), allow_pickle=True, fix_imports=True)\n",
    "print(\"Training datasets:\", np.array(data).shape, np.array(label).shape)"
   ]
  },
  {
   "cell_type": "code",
   "execution_count": 155,
   "id": "1fbc5be1",
   "metadata": {},
   "outputs": [
    {
     "name": "stdout",
     "output_type": "stream",
     "text": [
      "{0: 190526, 1: 116746, 2: 129332, 3: 118916}\n"
     ]
    }
   ],
   "source": [
    "unique, counts = np.unique(label, return_counts=True)\n",
    "label_dist = dict(zip(unique, counts))\n",
    "print(label_dist)"
   ]
  },
  {
   "cell_type": "code",
   "execution_count": 162,
   "id": "a0b07bcb",
   "metadata": {},
   "outputs": [],
   "source": [
    "with open('C:\\\\.Farhad\\\\.Telkom\\\\Emotion Recognition\\\\Datasets\\DEAP\\\\all\\\\data.npy', 'rb') as fileTrain:\n",
    "    data  = np.load(fileTrain)\n",
    "    \n",
    "with open('C:\\\\.Farhad\\\\.Telkom\\\\Emotion Recognition\\\\Datasets\\DEAP\\\\all\\\\label.npy', 'rb') as fileTrainL:\n",
    "    label  = np.load(fileTrainL)"
   ]
  },
  {
   "cell_type": "markdown",
   "id": "3334096a",
   "metadata": {},
   "source": [
    "## Train Val Test Split"
   ]
  },
  {
   "cell_type": "code",
   "execution_count": 163,
   "id": "d6f25ca5",
   "metadata": {},
   "outputs": [
    {
     "name": "stdout",
     "output_type": "stream",
     "text": [
      "(555520, 256)\n",
      "(555520,)\n"
     ]
    }
   ],
   "source": [
    "print(data.shape)\n",
    "print(label.shape)"
   ]
  },
  {
   "cell_type": "code",
   "execution_count": 164,
   "id": "243d9922",
   "metadata": {},
   "outputs": [],
   "source": [
    "x_train, x, y_train, y = train_test_split(data, label, test_size=0.4, random_state=42)"
   ]
  },
  {
   "cell_type": "code",
   "execution_count": 165,
   "id": "e590c89b",
   "metadata": {},
   "outputs": [],
   "source": [
    "x_val, x_test, y_val, y_test = train_test_split(x, y, test_size=0.5, random_state=42)"
   ]
  },
  {
   "cell_type": "code",
   "execution_count": 166,
   "id": "dfdcf470",
   "metadata": {},
   "outputs": [
    {
     "name": "stdout",
     "output_type": "stream",
     "text": [
      "(333312, 256)\n",
      "(333312,)\n",
      "(111104, 256)\n",
      "(111104,)\n",
      "(111104, 256)\n",
      "(111104,)\n"
     ]
    }
   ],
   "source": [
    "print(x_train.shape)\n",
    "print(y_train.shape)\n",
    "print(x_val.shape)\n",
    "print(y_val.shape)\n",
    "print(x_test.shape)\n",
    "print(y_test.shape)"
   ]
  },
  {
   "cell_type": "code",
   "execution_count": 167,
   "id": "24a1efe3",
   "metadata": {},
   "outputs": [
    {
     "name": "stdout",
     "output_type": "stream",
     "text": [
      "{0: 114311, 1: 69746, 2: 77599, 3: 71656}\n",
      "{0: 38090, 1: 23662, 2: 25815, 3: 23537}\n",
      "{0: 38125, 1: 23338, 2: 25918, 3: 23723}\n"
     ]
    }
   ],
   "source": [
    "unique, counts = np.unique(y_train, return_counts=True)\n",
    "label_dist = dict(zip(unique, counts))\n",
    "print(label_dist)\n",
    "unique, counts = np.unique(y_val, return_counts=True)\n",
    "label_dist = dict(zip(unique, counts))\n",
    "print(label_dist)\n",
    "unique, counts = np.unique(y_test, return_counts=True)\n",
    "label_dist = dict(zip(unique, counts))\n",
    "print(label_dist)"
   ]
  },
  {
   "cell_type": "code",
   "execution_count": 168,
   "id": "199726ee",
   "metadata": {},
   "outputs": [],
   "source": [
    "y_train = to_categorical(y_train)\n",
    "y_val = to_categorical(y_val)\n",
    "y_test = to_categorical(y_test)"
   ]
  },
  {
   "cell_type": "markdown",
   "id": "e080c56c",
   "metadata": {},
   "source": [
    "# Save and Load Datasets"
   ]
  },
  {
   "cell_type": "code",
   "execution_count": 169,
   "id": "b796ca4a",
   "metadata": {},
   "outputs": [],
   "source": [
    "np.save('C:\\\\.Farhad\\\\.Telkom\\\\Emotion Recognition\\\\Datasets\\\\DREAMER\\\\x_train', np.array(x_train), allow_pickle=True, fix_imports=True)\n",
    "np.save('C:\\\\.Farhad\\\\.Telkom\\\\Emotion Recognition\\\\Datasets\\\\DREAMER\\\\y_train', np.array(y_train), allow_pickle=True, fix_imports=True)\n",
    "np.save('C:\\\\.Farhad\\\\.Telkom\\\\Emotion Recognition\\\\Datasets\\\\DREAMER\\\\x_val', np.array(x_val), allow_pickle=True, fix_imports=True)\n",
    "np.save('C:\\\\.Farhad\\\\.Telkom\\\\Emotion Recognition\\\\Datasets\\\\DREAMER\\\\y_val', np.array(y_val), allow_pickle=True, fix_imports=True)\n",
    "np.save('C:\\\\.Farhad\\\\.Telkom\\\\Emotion Recognition\\\\Datasets\\\\DREAMER\\\\x_test', np.array(x_test), allow_pickle=True, fix_imports=True)\n",
    "np.save('C:\\\\.Farhad\\\\.Telkom\\\\Emotion Recognition\\\\Datasets\\\\DREAMER\\\\y_test', np.array(y_test), allow_pickle=True, fix_imports=True)"
   ]
  },
  {
   "cell_type": "code",
   "execution_count": 170,
   "id": "b7169072",
   "metadata": {},
   "outputs": [],
   "source": [
    "with open('C:\\\\.Farhad\\\\.Telkom\\\\Emotion Recognition\\\\Datasets\\\\DEAP\\\\all\\\\x_train.npy', 'rb') as file:\n",
    "    x_train = np.load(file, allow_pickle=True)\n",
    "with open('C:\\\\.Farhad\\\\.Telkom\\\\Emotion Recognition\\\\Datasets\\\\DEAP\\\\all\\\\y_train.npy', 'rb') as file:\n",
    "    y_train = np.load(file, allow_pickle=True)\n",
    "with open('C:\\\\.Farhad\\\\.Telkom\\\\Emotion Recognition\\\\Datasets\\\\DEAP\\\\all\\\\x_val.npy', 'rb') as file:\n",
    "    x_val = np.load(file, allow_pickle=True)\n",
    "with open('C:\\\\.Farhad\\\\.Telkom\\\\Emotion Recognition\\\\Datasets\\\\DEAP\\\\all\\\\y_val.npy', 'rb') as file:\n",
    "    y_val = np.load(file, allow_pickle=True)\n",
    "with open('C:\\\\.Farhad\\\\.Telkom\\\\Emotion Recognition\\\\Datasets\\\\DEAP\\\\all\\\\x_test.npy', 'rb') as file:\n",
    "    x_test = np.load(file, allow_pickle=True)\n",
    "with open('C:\\\\.Farhad\\\\.Telkom\\\\Emotion Recognition\\\\Datasets\\\\DEAP\\\\all\\\\y_test.npy', 'rb') as file:\n",
    "    y_test = np.load(file, allow_pickle=True)"
   ]
  },
  {
   "cell_type": "markdown",
   "id": "43b2f906",
   "metadata": {},
   "source": [
    "# Scaling and Normalization"
   ]
  },
  {
   "cell_type": "code",
   "execution_count": 171,
   "id": "ac514e17",
   "metadata": {},
   "outputs": [
    {
     "name": "stdout",
     "output_type": "stream",
     "text": [
      "(333312, 256)\n",
      "(333312, 4)\n",
      "(111104, 256)\n",
      "(111104, 4)\n",
      "(111104, 256)\n",
      "(111104, 4)\n"
     ]
    }
   ],
   "source": [
    "print(x_train.shape)\n",
    "print(y_train.shape)\n",
    "print(x_val.shape)\n",
    "print(y_val.shape)\n",
    "print(x_test.shape)\n",
    "print(y_test.shape)"
   ]
  },
  {
   "cell_type": "code",
   "execution_count": 172,
   "id": "a112381a",
   "metadata": {},
   "outputs": [],
   "source": [
    "scaler = StandardScaler()"
   ]
  },
  {
   "cell_type": "code",
   "execution_count": 173,
   "id": "f345f6dc",
   "metadata": {},
   "outputs": [],
   "source": [
    "# 4 Normalization -> Standardization \n",
    "x_train = scaler.fit_transform(normalize(x_train))\n",
    "x_val = scaler.fit_transform(normalize(x_val))\n",
    "x_test = scaler.fit_transform(normalize(x_test))"
   ]
  },
  {
   "cell_type": "markdown",
   "id": "04a903e3",
   "metadata": {},
   "source": [
    "## Sample"
   ]
  },
  {
   "cell_type": "code",
   "execution_count": 189,
   "id": "49fc12c2",
   "metadata": {},
   "outputs": [
    {
     "data": {
      "image/png": "[encoded data removed]",
      "text/plain": [
       "<Figure size 432x288 with 1 Axes>"
      ]
     },
     "metadata": {
      "needs_background": "light"
     },
     "output_type": "display_data"
    }
   ],
   "source": [
    "with open('C:\\\\.Farhad\\\\.Telkom\\\\Emotion Recognition\\\\Datasets\\\\DEAP\\\\all\\\\x_train.npy', 'rb') as file:\n",
    "    sample = np.load(file, allow_pickle=True)\n",
    "\n",
    "plt.plot(sample[0])\n",
    "# plt.title(\"Epoched Data Sample\")\n",
    "plt.ylabel('signal')\n",
    "plt.xlabel('length (data point)')\n",
    "plt.show()"
   ]
  },
  {
   "cell_type": "code",
   "execution_count": 190,
   "id": "aabbb1e3",
   "metadata": {},
   "outputs": [
    {
     "data": {
      "image/png": "[encoded data removed]",
      "text/plain": [
       "<Figure size 432x288 with 1 Axes>"
      ]
     },
     "metadata": {
      "needs_background": "light"
     },
     "output_type": "display_data"
    }
   ],
   "source": [
    "with open('C:\\\\.Farhad\\\\.Telkom\\\\Emotion Recognition\\\\Datasets\\\\DEAP\\\\all\\\\x_train.npy', 'rb') as file:\n",
    "    sample = np.load(file, allow_pickle=True)\n",
    "\n",
    "sample = normalize(sample)\n",
    "    \n",
    "plt.plot(sample[0])\n",
    "# plt.title(\"Data Sample After Z-Score Standardization\")\n",
    "plt.ylabel('signal')\n",
    "plt.xlabel('length (data point)')\n",
    "plt.show()"
   ]
  },
  {
   "cell_type": "code",
   "execution_count": 191,
   "id": "5af4303a",
   "metadata": {},
   "outputs": [
    {
     "data": {
      "image/png": "[encoded data removed]",
      "text/plain": [
       "<Figure size 432x288 with 1 Axes>"
      ]
     },
     "metadata": {
      "needs_background": "light"
     },
     "output_type": "display_data"
    }
   ],
   "source": [
    "with open('C:\\\\.Farhad\\\\.Telkom\\\\Emotion Recognition\\\\Datasets\\\\DEAP\\\\all\\\\x_train.npy', 'rb') as file:\n",
    "    sample = np.load(file, allow_pickle=True)\n",
    "\n",
    "sample = scaler.fit_transform(normalize(sample))\n",
    "    \n",
    "plt.plot(sample[0])\n",
    "plt.show()"
   ]
  },
  {
   "cell_type": "markdown",
   "id": "d61e2c56",
   "metadata": {},
   "source": [
    "## Reshaping"
   ]
  },
  {
   "cell_type": "code",
   "execution_count": 174,
   "id": "902d0523",
   "metadata": {},
   "outputs": [],
   "source": [
    "x_train = x_train.reshape(x_train.shape[0],x_train.shape[1], 1)\n",
    "x_val = x_val.reshape(x_val.shape[0],x_test.shape[1],1)\n",
    "x_test = x_test.reshape(x_test.shape[0],x_test.shape[1],1)"
   ]
  },
  {
   "cell_type": "code",
   "execution_count": 175,
   "id": "a93da52f",
   "metadata": {},
   "outputs": [
    {
     "name": "stdout",
     "output_type": "stream",
     "text": [
      "(333312, 256, 1)\n",
      "(111104, 256, 1)\n",
      "(111104, 256, 1)\n",
      "(333312, 4)\n",
      "(111104, 4)\n",
      "(111104, 4)\n"
     ]
    }
   ],
   "source": [
    "print(x_train.shape)\n",
    "print(x_val.shape)\n",
    "print(x_test.shape)\n",
    "\n",
    "print(y_train.shape)\n",
    "print(y_val.shape)\n",
    "print(y_test.shape)"
   ]
  },
  {
   "cell_type": "markdown",
   "id": "08aa1167",
   "metadata": {},
   "source": [
    "# Train Data"
   ]
  },
  {
   "cell_type": "code",
   "execution_count": 176,
   "id": "fb1e031a",
   "metadata": {},
   "outputs": [
    {
     "name": "stdout",
     "output_type": "stream",
     "text": [
      "(256, 1)\n"
     ]
    }
   ],
   "source": [
    "input_shape=(x_train.shape[1],x_train.shape[2])\n",
    "print(input_shape)"
   ]
  },
  {
   "cell_type": "code",
   "execution_count": 177,
   "id": "83dfcc51",
   "metadata": {},
   "outputs": [],
   "source": [
    "batch_size = 256\n",
    "num_classes = 4\n",
    "epochs = 200"
   ]
  },
  {
   "cell_type": "markdown",
   "id": "346a0fda",
   "metadata": {},
   "source": [
    "## Model 2: GRU"
   ]
  },
  {
   "cell_type": "code",
   "execution_count": 178,
   "id": "6ef7eb9b",
   "metadata": {},
   "outputs": [
    {
     "name": "stdout",
     "output_type": "stream",
     "text": [
      "Model: \"sequential_13\"\n",
      "_________________________________________________________________\n",
      "Layer (type)                 Output Shape              Param #   \n",
      "=================================================================\n",
      "conv1d_29 (Conv1D)           (None, 254, 128)          512       \n",
      "_________________________________________________________________\n",
      "max_pooling1d_29 (MaxPooling (None, 127, 128)          0         \n",
      "_________________________________________________________________\n",
      "dropout_68 (Dropout)         (None, 127, 128)          0         \n",
      "_________________________________________________________________\n",
      "conv1d_30 (Conv1D)           (None, 125, 128)          49280     \n",
      "_________________________________________________________________\n",
      "max_pooling1d_30 (MaxPooling (None, 62, 128)           0         \n",
      "_________________________________________________________________\n",
      "dropout_69 (Dropout)         (None, 62, 128)           0         \n",
      "_________________________________________________________________\n",
      "gru (GRU)                    (None, 62, 256)           296448    \n",
      "_________________________________________________________________\n",
      "dropout_70 (Dropout)         (None, 62, 256)           0         \n",
      "_________________________________________________________________\n",
      "gru_1 (GRU)                  (None, 32)                27840     \n",
      "_________________________________________________________________\n",
      "dropout_71 (Dropout)         (None, 32)                0         \n",
      "_________________________________________________________________\n",
      "flatten_13 (Flatten)         (None, 32)                0         \n",
      "_________________________________________________________________\n",
      "dense_26 (Dense)             (None, 128)               4224      \n",
      "_________________________________________________________________\n",
      "dropout_72 (Dropout)         (None, 128)               0         \n",
      "_________________________________________________________________\n",
      "dense_27 (Dense)             (None, 4)                 516       \n",
      "_________________________________________________________________\n",
      "activation_13 (Activation)   (None, 4)                 0         \n",
      "=================================================================\n",
      "Total params: 378,820\n",
      "Trainable params: 378,820\n",
      "Non-trainable params: 0\n",
      "_________________________________________________________________\n"
     ]
    }
   ],
   "source": [
    "model_2 = Sequential()\n",
    "\n",
    "model_2.add(Conv1D(128, 3, activation='relu', input_shape=input_shape))\n",
    "model_2.add(MaxPooling1D(pool_size=2))\n",
    "model_2.add(Dropout(0.2))\n",
    "\n",
    "model_2.add(Conv1D(128, 3,  activation='relu'))\n",
    "model_2.add(MaxPooling1D(pool_size=2))\n",
    "model_2.add(Dropout(0.2))\n",
    "\n",
    "model_2.add(GRU(units = 256, return_sequences=True))  \n",
    "model_2.add(Dropout(0.2))\n",
    "\n",
    "model_2.add(GRU(units = 32))\n",
    "model_2.add(Dropout(0.2))\n",
    "\n",
    "model_2.add(Flatten())\n",
    "\n",
    "model_2.add(Dense(units = 128, activation='relu'))\n",
    "model_2.add(Dropout(0.2))\n",
    "\n",
    "model_2.add(Dense(units = num_classes))\n",
    "model_2.add(Activation('softmax'))\n",
    "\n",
    "model_2.summary()"
   ]
  },
  {
   "cell_type": "code",
   "execution_count": 179,
   "id": "5786db84",
   "metadata": {},
   "outputs": [],
   "source": [
    "model_2.compile(\n",
    "    optimizer =\"adam\",\n",
    "    loss = 'categorical_crossentropy',\n",
    "    metrics=[\"accuracy\"]\n",
    ")"
   ]
  },
  {
   "cell_type": "code",
   "execution_count": 180,
   "id": "197bd2f6",
   "metadata": {},
   "outputs": [
    {
     "name": "stdout",
     "output_type": "stream",
     "text": [
      "Epoch 1/200\n",
      "1302/1302 [==============================] - 58s 39ms/step - loss: 1.3659 - accuracy: 0.3423 - val_loss: 1.3638 - val_accuracy: 0.3428\n",
      "Epoch 2/200\n",
      "1302/1302 [==============================] - 50s 38ms/step - loss: 1.3634 - accuracy: 0.3431 - val_loss: 1.3608 - val_accuracy: 0.3453\n",
      "Epoch 3/200\n",
      "1302/1302 [==============================] - 50s 38ms/step - loss: 1.3605 - accuracy: 0.3446 - val_loss: 1.3556 - val_accuracy: 0.3490\n",
      "Epoch 4/200\n",
      "1302/1302 [==============================] - 50s 38ms/step - loss: 1.3574 - accuracy: 0.3460 - val_loss: 1.3473 - val_accuracy: 0.3545\n",
      "Epoch 5/200\n",
      "1302/1302 [==============================] - 50s 39ms/step - loss: 1.3503 - accuracy: 0.3510 - val_loss: 1.3360 - val_accuracy: 0.3608\n",
      "Epoch 6/200\n",
      "1302/1302 [==============================] - 50s 39ms/step - loss: 1.3377 - accuracy: 0.3606 - val_loss: 1.2993 - val_accuracy: 0.3882\n",
      "Epoch 7/200\n",
      "1302/1302 [==============================] - 50s 39ms/step - loss: 1.3068 - accuracy: 0.3848 - val_loss: 1.2140 - val_accuracy: 0.4508\n",
      "Epoch 8/200\n",
      "1302/1302 [==============================] - 50s 38ms/step - loss: 1.2499 - accuracy: 0.4252 - val_loss: 1.1101 - val_accuracy: 0.5196\n",
      "Epoch 9/200\n",
      "1302/1302 [==============================] - 51s 39ms/step - loss: 1.1685 - accuracy: 0.4789 - val_loss: 0.9698 - val_accuracy: 0.6058\n",
      "Epoch 10/200\n",
      "1302/1302 [==============================] - 50s 39ms/step - loss: 1.0751 - accuracy: 0.5365 - val_loss: 0.8396 - val_accuracy: 0.6708\n",
      "Epoch 11/200\n",
      "1302/1302 [==============================] - 50s 39ms/step - loss: 0.9828 - accuracy: 0.5887 - val_loss: 0.7094 - val_accuracy: 0.7388\n",
      "Epoch 12/200\n",
      "1302/1302 [==============================] - 50s 39ms/step - loss: 0.9028 - accuracy: 0.6311 - val_loss: 0.6086 - val_accuracy: 0.7857\n",
      "Epoch 13/200\n",
      "1302/1302 [==============================] - 51s 39ms/step - loss: 0.8154 - accuracy: 0.6729 - val_loss: 0.5021 - val_accuracy: 0.8305\n",
      "Epoch 14/200\n",
      "1302/1302 [==============================] - 51s 39ms/step - loss: 0.7463 - accuracy: 0.7054 - val_loss: 0.4340 - val_accuracy: 0.8565\n",
      "Epoch 15/200\n",
      "1302/1302 [==============================] - 51s 39ms/step - loss: 0.6906 - accuracy: 0.7304 - val_loss: 0.3510 - val_accuracy: 0.8894\n",
      "Epoch 16/200\n",
      "1302/1302 [==============================] - 50s 39ms/step - loss: 0.6429 - accuracy: 0.7529 - val_loss: 0.2993 - val_accuracy: 0.9078\n",
      "Epoch 17/200\n",
      "1302/1302 [==============================] - 50s 38ms/step - loss: 0.5996 - accuracy: 0.7708 - val_loss: 0.2724 - val_accuracy: 0.9208\n",
      "Epoch 18/200\n",
      "1302/1302 [==============================] - 50s 39ms/step - loss: 0.5603 - accuracy: 0.7886 - val_loss: 0.2435 - val_accuracy: 0.9320\n",
      "Epoch 19/200\n",
      "1302/1302 [==============================] - 50s 38ms/step - loss: 0.5276 - accuracy: 0.8016 - val_loss: 0.2089 - val_accuracy: 0.9413\n",
      "Epoch 20/200\n",
      "1302/1302 [==============================] - 50s 39ms/step - loss: 0.4993 - accuracy: 0.8142 - val_loss: 0.1831 - val_accuracy: 0.9499\n",
      "Epoch 21/200\n",
      "1302/1302 [==============================] - 51s 39ms/step - loss: 0.4752 - accuracy: 0.8232 - val_loss: 0.1535 - val_accuracy: 0.9623\n",
      "Epoch 22/200\n",
      "1302/1302 [==============================] - 51s 39ms/step - loss: 0.4483 - accuracy: 0.8351 - val_loss: 0.1332 - val_accuracy: 0.9662\n",
      "Epoch 23/200\n",
      "1302/1302 [==============================] - 50s 38ms/step - loss: 0.4312 - accuracy: 0.8415 - val_loss: 0.1473 - val_accuracy: 0.9627\n",
      "Epoch 24/200\n",
      "1302/1302 [==============================] - 51s 39ms/step - loss: 0.4147 - accuracy: 0.8472 - val_loss: 0.1141 - val_accuracy: 0.9745\n",
      "Epoch 25/200\n",
      "1302/1302 [==============================] - 50s 38ms/step - loss: 0.3956 - accuracy: 0.8562 - val_loss: 0.0936 - val_accuracy: 0.9794\n",
      "Epoch 26/200\n",
      "1302/1302 [==============================] - 50s 39ms/step - loss: 0.3789 - accuracy: 0.8621 - val_loss: 0.0980 - val_accuracy: 0.9775\n",
      "Epoch 27/200\n",
      "1302/1302 [==============================] - 52s 40ms/step - loss: 0.3692 - accuracy: 0.8658 - val_loss: 0.0888 - val_accuracy: 0.9794\n",
      "Epoch 28/200\n",
      "1302/1302 [==============================] - 51s 39ms/step - loss: 0.3556 - accuracy: 0.8720 - val_loss: 0.0782 - val_accuracy: 0.9841\n",
      "Epoch 29/200\n",
      "1302/1302 [==============================] - 51s 39ms/step - loss: 0.3466 - accuracy: 0.8743 - val_loss: 0.0713 - val_accuracy: 0.9862\n",
      "Epoch 30/200\n",
      "1302/1302 [==============================] - 50s 39ms/step - loss: 0.3304 - accuracy: 0.8814 - val_loss: 0.0751 - val_accuracy: 0.9825\n",
      "Epoch 31/200\n",
      "1302/1302 [==============================] - 50s 39ms/step - loss: 0.3241 - accuracy: 0.8839 - val_loss: 0.0654 - val_accuracy: 0.9869\n",
      "Epoch 32/200\n",
      "1302/1302 [==============================] - 50s 39ms/step - loss: 0.3128 - accuracy: 0.8881 - val_loss: 0.0556 - val_accuracy: 0.9886\n",
      "Epoch 33/200\n",
      "1302/1302 [==============================] - 50s 38ms/step - loss: 0.3063 - accuracy: 0.8910 - val_loss: 0.0529 - val_accuracy: 0.9899\n",
      "Epoch 34/200\n",
      "1302/1302 [==============================] - 50s 39ms/step - loss: 0.2971 - accuracy: 0.8943 - val_loss: 0.0577 - val_accuracy: 0.9872\n",
      "Epoch 35/200\n",
      "1302/1302 [==============================] - 50s 39ms/step - loss: 0.2937 - accuracy: 0.8953 - val_loss: 0.0589 - val_accuracy: 0.9869\n",
      "Epoch 36/200\n",
      "1302/1302 [==============================] - 50s 39ms/step - loss: 0.2834 - accuracy: 0.8985 - val_loss: 0.0532 - val_accuracy: 0.9887\n",
      "Epoch 37/200\n",
      "1302/1302 [==============================] - 50s 39ms/step - loss: 0.2827 - accuracy: 0.8999 - val_loss: 0.0448 - val_accuracy: 0.9927\n",
      "Epoch 38/200\n",
      "1302/1302 [==============================] - 51s 39ms/step - loss: 0.2753 - accuracy: 0.9024 - val_loss: 0.0477 - val_accuracy: 0.9900\n",
      "Epoch 39/200\n",
      "1302/1302 [==============================] - 51s 39ms/step - loss: 0.2663 - accuracy: 0.9066 - val_loss: 0.0394 - val_accuracy: 0.9915\n",
      "Epoch 40/200\n",
      "1302/1302 [==============================] - 52s 40ms/step - loss: 0.2605 - accuracy: 0.9076 - val_loss: 0.0417 - val_accuracy: 0.9905\n",
      "Epoch 41/200\n",
      "1302/1302 [==============================] - 51s 40ms/step - loss: 0.2523 - accuracy: 0.9114 - val_loss: 0.0342 - val_accuracy: 0.9929\n",
      "Epoch 42/200\n",
      "1302/1302 [==============================] - 50s 39ms/step - loss: 0.2464 - accuracy: 0.9132 - val_loss: 0.0334 - val_accuracy: 0.9944\n",
      "Epoch 43/200\n",
      "1302/1302 [==============================] - 51s 40ms/step - loss: 0.2426 - accuracy: 0.9151 - val_loss: 0.0296 - val_accuracy: 0.9948\n",
      "Epoch 44/200\n",
      "1302/1302 [==============================] - 56s 43ms/step - loss: 0.2368 - accuracy: 0.9165 - val_loss: 0.0332 - val_accuracy: 0.9943\n",
      "Epoch 45/200\n",
      "1302/1302 [==============================] - 56s 43ms/step - loss: 0.2318 - accuracy: 0.9192 - val_loss: 0.0309 - val_accuracy: 0.9941\n",
      "Epoch 46/200\n",
      "1302/1302 [==============================] - 55s 42ms/step - loss: 0.2265 - accuracy: 0.9204 - val_loss: 0.0280 - val_accuracy: 0.9954\n",
      "Epoch 47/200\n",
      "1302/1302 [==============================] - 51s 39ms/step - loss: 0.2233 - accuracy: 0.9220 - val_loss: 0.0337 - val_accuracy: 0.9911\n",
      "Epoch 48/200\n",
      "1302/1302 [==============================] - 52s 40ms/step - loss: 0.2192 - accuracy: 0.9232 - val_loss: 0.0234 - val_accuracy: 0.9949\n",
      "Epoch 49/200\n",
      "1302/1302 [==============================] - 52s 40ms/step - loss: 0.2170 - accuracy: 0.9243 - val_loss: 0.0271 - val_accuracy: 0.9941\n",
      "Epoch 50/200\n",
      "1302/1302 [==============================] - 52s 40ms/step - loss: 0.2127 - accuracy: 0.9254 - val_loss: 0.0247 - val_accuracy: 0.9952\n",
      "Epoch 51/200\n",
      "1302/1302 [==============================] - 53s 41ms/step - loss: 0.2081 - accuracy: 0.9280 - val_loss: 0.0270 - val_accuracy: 0.9945\n",
      "Epoch 52/200\n",
      "1302/1302 [==============================] - 53s 41ms/step - loss: 0.2065 - accuracy: 0.9279 - val_loss: 0.0275 - val_accuracy: 0.9944\n",
      "Epoch 53/200\n",
      "1302/1302 [==============================] - 52s 40ms/step - loss: 0.2027 - accuracy: 0.9293 - val_loss: 0.0272 - val_accuracy: 0.9940\n",
      "Epoch 54/200\n",
      "1302/1302 [==============================] - 51s 39ms/step - loss: 0.2000 - accuracy: 0.9302 - val_loss: 0.0251 - val_accuracy: 0.9947\n",
      "Epoch 55/200\n",
      "1302/1302 [==============================] - 51s 39ms/step - loss: 0.1979 - accuracy: 0.9309 - val_loss: 0.0255 - val_accuracy: 0.9943\n",
      "Epoch 56/200\n",
      "1302/1302 [==============================] - 54s 41ms/step - loss: 0.1957 - accuracy: 0.9317 - val_loss: 0.0195 - val_accuracy: 0.9966\n",
      "Epoch 57/200\n",
      "1302/1302 [==============================] - 51s 39ms/step - loss: 0.1926 - accuracy: 0.9332 - val_loss: 0.0254 - val_accuracy: 0.9955\n",
      "Epoch 58/200\n",
      "1302/1302 [==============================] - 52s 40ms/step - loss: 0.1905 - accuracy: 0.9341 - val_loss: 0.0232 - val_accuracy: 0.9960\n",
      "Epoch 59/200\n",
      "1302/1302 [==============================] - 52s 40ms/step - loss: 0.1889 - accuracy: 0.9343 - val_loss: 0.0177 - val_accuracy: 0.9966\n",
      "Epoch 60/200\n",
      "1302/1302 [==============================] - 51s 39ms/step - loss: 0.1872 - accuracy: 0.9351 - val_loss: 0.0202 - val_accuracy: 0.9961\n",
      "Epoch 61/200\n",
      "1302/1302 [==============================] - 51s 39ms/step - loss: 0.1851 - accuracy: 0.9362 - val_loss: 0.0225 - val_accuracy: 0.9951\n",
      "Epoch 62/200\n",
      "1302/1302 [==============================] - 50s 39ms/step - loss: 0.1830 - accuracy: 0.9370 - val_loss: 0.0182 - val_accuracy: 0.9968\n",
      "Epoch 63/200\n",
      "1302/1302 [==============================] - 50s 38ms/step - loss: 0.1826 - accuracy: 0.9368 - val_loss: 0.0199 - val_accuracy: 0.9962\n",
      "Epoch 64/200\n",
      "1302/1302 [==============================] - 50s 39ms/step - loss: 0.1808 - accuracy: 0.9370 - val_loss: 0.0175 - val_accuracy: 0.9964\n",
      "Epoch 65/200\n",
      "1302/1302 [==============================] - 51s 39ms/step - loss: 0.1795 - accuracy: 0.9379 - val_loss: 0.0224 - val_accuracy: 0.9954\n",
      "Epoch 66/200\n",
      "1302/1302 [==============================] - 51s 39ms/step - loss: 0.1761 - accuracy: 0.9391 - val_loss: 0.0172 - val_accuracy: 0.9965\n",
      "Epoch 67/200\n",
      "1302/1302 [==============================] - 50s 39ms/step - loss: 0.1766 - accuracy: 0.9388 - val_loss: 0.0199 - val_accuracy: 0.9964\n",
      "Epoch 68/200\n",
      "1302/1302 [==============================] - 50s 39ms/step - loss: 0.1734 - accuracy: 0.9398 - val_loss: 0.0189 - val_accuracy: 0.9958\n",
      "Epoch 69/200\n",
      "1302/1302 [==============================] - 50s 38ms/step - loss: 0.1722 - accuracy: 0.9406 - val_loss: 0.0159 - val_accuracy: 0.9969\n",
      "Epoch 70/200\n",
      "1302/1302 [==============================] - 50s 38ms/step - loss: 0.1697 - accuracy: 0.9413 - val_loss: 0.0214 - val_accuracy: 0.9954\n",
      "Epoch 71/200\n",
      "1302/1302 [==============================] - 50s 38ms/step - loss: 0.1683 - accuracy: 0.9414 - val_loss: 0.0170 - val_accuracy: 0.9967\n",
      "Epoch 72/200\n",
      "1302/1302 [==============================] - 50s 39ms/step - loss: 0.1676 - accuracy: 0.9421 - val_loss: 0.0199 - val_accuracy: 0.9959\n",
      "Epoch 73/200\n",
      "1302/1302 [==============================] - 52s 40ms/step - loss: 0.1675 - accuracy: 0.9426 - val_loss: 0.0167 - val_accuracy: 0.9962\n",
      "Epoch 74/200\n",
      "1302/1302 [==============================] - 50s 39ms/step - loss: 0.1666 - accuracy: 0.9427 - val_loss: 0.0183 - val_accuracy: 0.9970\n",
      "Epoch 75/200\n",
      "1302/1302 [==============================] - 51s 39ms/step - loss: 0.1629 - accuracy: 0.9446 - val_loss: 0.0194 - val_accuracy: 0.9956\n",
      "Epoch 76/200\n",
      "1302/1302 [==============================] - 50s 39ms/step - loss: 0.1616 - accuracy: 0.9451 - val_loss: 0.0212 - val_accuracy: 0.9953\n",
      "Epoch 77/200\n",
      "1302/1302 [==============================] - 51s 39ms/step - loss: 0.1624 - accuracy: 0.9442 - val_loss: 0.0129 - val_accuracy: 0.9972\n",
      "Epoch 78/200\n",
      "1302/1302 [==============================] - 50s 39ms/step - loss: 0.1581 - accuracy: 0.9451 - val_loss: 0.0146 - val_accuracy: 0.9976\n",
      "Epoch 79/200\n",
      "1302/1302 [==============================] - 50s 39ms/step - loss: 0.1574 - accuracy: 0.9450 - val_loss: 0.0176 - val_accuracy: 0.9964\n",
      "Epoch 80/200\n",
      "1302/1302 [==============================] - 50s 39ms/step - loss: 0.1585 - accuracy: 0.9459 - val_loss: 0.0168 - val_accuracy: 0.9968\n",
      "Epoch 81/200\n",
      "1302/1302 [==============================] - 51s 39ms/step - loss: 0.1554 - accuracy: 0.9464 - val_loss: 0.0135 - val_accuracy: 0.9973\n",
      "Epoch 82/200\n",
      "1302/1302 [==============================] - 50s 39ms/step - loss: 0.1552 - accuracy: 0.9469 - val_loss: 0.0139 - val_accuracy: 0.9976\n",
      "Epoch 83/200\n",
      "1302/1302 [==============================] - 50s 39ms/step - loss: 0.1559 - accuracy: 0.9469 - val_loss: 0.0135 - val_accuracy: 0.9975\n",
      "Epoch 84/200\n",
      "1302/1302 [==============================] - 50s 39ms/step - loss: 0.1522 - accuracy: 0.9478 - val_loss: 0.0155 - val_accuracy: 0.9966\n",
      "Epoch 85/200\n",
      "1302/1302 [==============================] - 50s 38ms/step - loss: 0.1526 - accuracy: 0.9479 - val_loss: 0.0158 - val_accuracy: 0.9966\n",
      "Epoch 86/200\n",
      "1302/1302 [==============================] - 51s 39ms/step - loss: 0.1509 - accuracy: 0.9485 - val_loss: 0.0127 - val_accuracy: 0.9979\n",
      "Epoch 87/200\n",
      "1302/1302 [==============================] - 50s 38ms/step - loss: 0.1494 - accuracy: 0.9490 - val_loss: 0.0141 - val_accuracy: 0.9971\n",
      "Epoch 88/200\n",
      "1302/1302 [==============================] - 50s 39ms/step - loss: 0.1491 - accuracy: 0.9493 - val_loss: 0.0139 - val_accuracy: 0.9973\n",
      "Epoch 89/200\n",
      "1302/1302 [==============================] - 50s 39ms/step - loss: 0.1482 - accuracy: 0.9494 - val_loss: 0.0117 - val_accuracy: 0.9979\n",
      "Epoch 90/200\n",
      "1302/1302 [==============================] - 50s 39ms/step - loss: 0.1454 - accuracy: 0.9503 - val_loss: 0.0143 - val_accuracy: 0.9974\n",
      "Epoch 91/200\n",
      "1302/1302 [==============================] - 50s 39ms/step - loss: 0.1469 - accuracy: 0.9493 - val_loss: 0.0107 - val_accuracy: 0.9982\n",
      "Epoch 92/200\n",
      "1302/1302 [==============================] - 50s 39ms/step - loss: 0.1458 - accuracy: 0.9501 - val_loss: 0.0185 - val_accuracy: 0.9961\n",
      "Epoch 93/200\n",
      "1302/1302 [==============================] - 50s 39ms/step - loss: 0.1450 - accuracy: 0.9503 - val_loss: 0.0098 - val_accuracy: 0.9983\n",
      "Epoch 94/200\n",
      "1302/1302 [==============================] - 51s 39ms/step - loss: 0.1442 - accuracy: 0.9506 - val_loss: 0.0137 - val_accuracy: 0.9973\n",
      "Epoch 95/200\n",
      "1302/1302 [==============================] - 51s 39ms/step - loss: 0.1429 - accuracy: 0.9502 - val_loss: 0.0121 - val_accuracy: 0.9978\n",
      "Epoch 96/200\n",
      "1302/1302 [==============================] - 51s 39ms/step - loss: 0.1390 - accuracy: 0.9521 - val_loss: 0.0134 - val_accuracy: 0.9975\n",
      "Epoch 97/200\n",
      "1302/1302 [==============================] - 51s 39ms/step - loss: 0.1397 - accuracy: 0.9518 - val_loss: 0.0122 - val_accuracy: 0.9975\n",
      "Epoch 98/200\n",
      "1302/1302 [==============================] - 50s 39ms/step - loss: 0.1383 - accuracy: 0.9524 - val_loss: 0.0127 - val_accuracy: 0.9971\n",
      "Epoch 99/200\n",
      "1302/1302 [==============================] - 50s 39ms/step - loss: 0.1417 - accuracy: 0.9519 - val_loss: 0.0119 - val_accuracy: 0.9978\n",
      "Epoch 100/200\n",
      "1302/1302 [==============================] - 51s 39ms/step - loss: 0.1398 - accuracy: 0.9522 - val_loss: 0.0123 - val_accuracy: 0.9974\n",
      "Epoch 101/200\n",
      "1302/1302 [==============================] - 50s 38ms/step - loss: 0.1384 - accuracy: 0.9528 - val_loss: 0.0140 - val_accuracy: 0.9968\n",
      "Epoch 102/200\n",
      "1302/1302 [==============================] - 53s 41ms/step - loss: 0.1375 - accuracy: 0.9530 - val_loss: 0.0158 - val_accuracy: 0.9964\n",
      "Epoch 103/200\n",
      "1302/1302 [==============================] - 51s 39ms/step - loss: 0.1372 - accuracy: 0.9532 - val_loss: 0.0169 - val_accuracy: 0.9953\n",
      "Epoch 104/200\n",
      "1302/1302 [==============================] - 51s 39ms/step - loss: 0.1390 - accuracy: 0.9522 - val_loss: 0.0108 - val_accuracy: 0.9982\n",
      "Epoch 105/200\n",
      "1302/1302 [==============================] - 51s 39ms/step - loss: 0.1360 - accuracy: 0.9540 - val_loss: 0.0119 - val_accuracy: 0.9971\n",
      "Epoch 106/200\n",
      "1302/1302 [==============================] - 51s 39ms/step - loss: 0.1362 - accuracy: 0.9534 - val_loss: 0.0095 - val_accuracy: 0.9979\n",
      "Epoch 107/200\n",
      "1302/1302 [==============================] - 51s 39ms/step - loss: 0.1332 - accuracy: 0.9546 - val_loss: 0.0123 - val_accuracy: 0.9974\n",
      "Epoch 108/200\n",
      "1302/1302 [==============================] - 51s 39ms/step - loss: 0.1321 - accuracy: 0.9550 - val_loss: 0.0110 - val_accuracy: 0.9983\n",
      "Epoch 109/200\n",
      "1302/1302 [==============================] - 54s 41ms/step - loss: 0.1324 - accuracy: 0.9546 - val_loss: 0.0091 - val_accuracy: 0.9987\n",
      "Epoch 110/200\n",
      "1302/1302 [==============================] - 52s 40ms/step - loss: 0.1311 - accuracy: 0.9553 - val_loss: 0.0097 - val_accuracy: 0.9980\n",
      "Epoch 111/200\n"
     ]
    },
    {
     "name": "stdout",
     "output_type": "stream",
     "text": [
      "1302/1302 [==============================] - 52s 40ms/step - loss: 0.1302 - accuracy: 0.9556 - val_loss: 0.0116 - val_accuracy: 0.9978\n",
      "Epoch 112/200\n",
      "1302/1302 [==============================] - 51s 39ms/step - loss: 0.1305 - accuracy: 0.9554 - val_loss: 0.0113 - val_accuracy: 0.9974\n",
      "Epoch 113/200\n",
      "1302/1302 [==============================] - 50s 38ms/step - loss: 0.1296 - accuracy: 0.9552 - val_loss: 0.0108 - val_accuracy: 0.9982\n",
      "Epoch 114/200\n",
      "1302/1302 [==============================] - 50s 39ms/step - loss: 0.1296 - accuracy: 0.9558 - val_loss: 0.0119 - val_accuracy: 0.9970\n",
      "Epoch 115/200\n",
      "1302/1302 [==============================] - 51s 39ms/step - loss: 0.1315 - accuracy: 0.9547 - val_loss: 0.0104 - val_accuracy: 0.9979\n",
      "Epoch 116/200\n",
      "1302/1302 [==============================] - 51s 39ms/step - loss: 0.1272 - accuracy: 0.9569 - val_loss: 0.0100 - val_accuracy: 0.9980\n",
      "Epoch 117/200\n",
      "1302/1302 [==============================] - 50s 38ms/step - loss: 0.1270 - accuracy: 0.9567 - val_loss: 0.0121 - val_accuracy: 0.9978\n",
      "Epoch 118/200\n",
      "1302/1302 [==============================] - 50s 38ms/step - loss: 0.1274 - accuracy: 0.9570 - val_loss: 0.0125 - val_accuracy: 0.9973\n",
      "Epoch 119/200\n",
      "1302/1302 [==============================] - 51s 39ms/step - loss: 0.1302 - accuracy: 0.9554 - val_loss: 0.0115 - val_accuracy: 0.9975\n",
      "Epoch 120/200\n",
      "1302/1302 [==============================] - 50s 38ms/step - loss: 0.1264 - accuracy: 0.9570 - val_loss: 0.0087 - val_accuracy: 0.9985\n",
      "Epoch 121/200\n",
      "1302/1302 [==============================] - 50s 39ms/step - loss: 0.1252 - accuracy: 0.9570 - val_loss: 0.0088 - val_accuracy: 0.9988\n",
      "Epoch 122/200\n",
      "1302/1302 [==============================] - 50s 39ms/step - loss: 0.1225 - accuracy: 0.9582 - val_loss: 0.0118 - val_accuracy: 0.9975\n",
      "Epoch 123/200\n",
      "1302/1302 [==============================] - 51s 39ms/step - loss: 0.1244 - accuracy: 0.9575 - val_loss: 0.0086 - val_accuracy: 0.9983\n",
      "Epoch 124/200\n",
      "1302/1302 [==============================] - 49s 38ms/step - loss: 0.1248 - accuracy: 0.9576 - val_loss: 0.0089 - val_accuracy: 0.9985\n",
      "Epoch 125/200\n",
      "1302/1302 [==============================] - 50s 38ms/step - loss: 0.1242 - accuracy: 0.9579 - val_loss: 0.0095 - val_accuracy: 0.9981\n",
      "Epoch 126/200\n",
      "1302/1302 [==============================] - 50s 38ms/step - loss: 0.1220 - accuracy: 0.9583 - val_loss: 0.0111 - val_accuracy: 0.9974\n",
      "Epoch 127/200\n",
      "1302/1302 [==============================] - 50s 38ms/step - loss: 0.1241 - accuracy: 0.9578 - val_loss: 0.0084 - val_accuracy: 0.9987\n",
      "Epoch 128/200\n",
      "1302/1302 [==============================] - 50s 38ms/step - loss: 0.1197 - accuracy: 0.9587 - val_loss: 0.0076 - val_accuracy: 0.9985\n",
      "Epoch 129/200\n",
      "1302/1302 [==============================] - 50s 38ms/step - loss: 0.1228 - accuracy: 0.9582 - val_loss: 0.0096 - val_accuracy: 0.9980\n",
      "Epoch 130/200\n",
      "1302/1302 [==============================] - 50s 39ms/step - loss: 0.1211 - accuracy: 0.9591 - val_loss: 0.0087 - val_accuracy: 0.9981\n",
      "Epoch 131/200\n",
      "1302/1302 [==============================] - 50s 38ms/step - loss: 0.1185 - accuracy: 0.9593 - val_loss: 0.0094 - val_accuracy: 0.9983\n",
      "Epoch 132/200\n",
      "1302/1302 [==============================] - 50s 38ms/step - loss: 0.1195 - accuracy: 0.9597 - val_loss: 0.0098 - val_accuracy: 0.9979\n",
      "Epoch 133/200\n",
      "1302/1302 [==============================] - 50s 39ms/step - loss: 0.1196 - accuracy: 0.9592 - val_loss: 0.0091 - val_accuracy: 0.9981\n",
      "Epoch 134/200\n",
      "1302/1302 [==============================] - 50s 38ms/step - loss: 0.1174 - accuracy: 0.9598 - val_loss: 0.0107 - val_accuracy: 0.9975\n",
      "Epoch 135/200\n",
      "1302/1302 [==============================] - 50s 38ms/step - loss: 0.1207 - accuracy: 0.9589 - val_loss: 0.0077 - val_accuracy: 0.9989\n",
      "Epoch 136/200\n",
      "1302/1302 [==============================] - 50s 38ms/step - loss: 0.1170 - accuracy: 0.9602 - val_loss: 0.0079 - val_accuracy: 0.9988\n",
      "Epoch 137/200\n",
      "1302/1302 [==============================] - 49s 38ms/step - loss: 0.1189 - accuracy: 0.9601 - val_loss: 0.0108 - val_accuracy: 0.9974\n",
      "Epoch 138/200\n",
      "1302/1302 [==============================] - 49s 38ms/step - loss: 0.1161 - accuracy: 0.9607 - val_loss: 0.0094 - val_accuracy: 0.9980\n",
      "Epoch 139/200\n",
      "1302/1302 [==============================] - 49s 38ms/step - loss: 0.1171 - accuracy: 0.9608 - val_loss: 0.0084 - val_accuracy: 0.9984\n",
      "Epoch 140/200\n",
      "1302/1302 [==============================] - 49s 38ms/step - loss: 0.1176 - accuracy: 0.9601 - val_loss: 0.0074 - val_accuracy: 0.9986\n",
      "Epoch 141/200\n",
      "1302/1302 [==============================] - 50s 38ms/step - loss: 0.1160 - accuracy: 0.9607 - val_loss: 0.0111 - val_accuracy: 0.9981\n",
      "Epoch 142/200\n",
      "1302/1302 [==============================] - 50s 38ms/step - loss: 0.1159 - accuracy: 0.9606 - val_loss: 0.0083 - val_accuracy: 0.9983\n",
      "Epoch 143/200\n",
      "1302/1302 [==============================] - 50s 38ms/step - loss: 0.1146 - accuracy: 0.9611 - val_loss: 0.0073 - val_accuracy: 0.9986\n",
      "Epoch 144/200\n",
      "1302/1302 [==============================] - 49s 38ms/step - loss: 0.1165 - accuracy: 0.9610 - val_loss: 0.0101 - val_accuracy: 0.9980\n",
      "Epoch 145/200\n",
      "1302/1302 [==============================] - 49s 38ms/step - loss: 0.1156 - accuracy: 0.9609 - val_loss: 0.0067 - val_accuracy: 0.9992\n",
      "Epoch 146/200\n",
      "1302/1302 [==============================] - 50s 38ms/step - loss: 0.1111 - accuracy: 0.9623 - val_loss: 0.0080 - val_accuracy: 0.9982\n",
      "Epoch 147/200\n",
      "1302/1302 [==============================] - 50s 38ms/step - loss: 0.1114 - accuracy: 0.9623 - val_loss: 0.0099 - val_accuracy: 0.9979\n",
      "Epoch 148/200\n",
      "1302/1302 [==============================] - 49s 38ms/step - loss: 0.1140 - accuracy: 0.9620 - val_loss: 0.0082 - val_accuracy: 0.9984\n",
      "Epoch 149/200\n",
      "1302/1302 [==============================] - 49s 38ms/step - loss: 0.1118 - accuracy: 0.9623 - val_loss: 0.0085 - val_accuracy: 0.9980\n",
      "Epoch 150/200\n",
      "1302/1302 [==============================] - 50s 38ms/step - loss: 0.1088 - accuracy: 0.9633 - val_loss: 0.0108 - val_accuracy: 0.9975\n",
      "Epoch 151/200\n",
      "1302/1302 [==============================] - 50s 38ms/step - loss: 0.1110 - accuracy: 0.9625 - val_loss: 0.0074 - val_accuracy: 0.9989\n",
      "Epoch 152/200\n",
      "1302/1302 [==============================] - 50s 38ms/step - loss: 0.1117 - accuracy: 0.9619 - val_loss: 0.0084 - val_accuracy: 0.9982\n",
      "Epoch 153/200\n",
      "1302/1302 [==============================] - 51s 39ms/step - loss: 0.1140 - accuracy: 0.9616 - val_loss: 0.0107 - val_accuracy: 0.9977\n",
      "Epoch 154/200\n",
      "1302/1302 [==============================] - 49s 38ms/step - loss: 0.1102 - accuracy: 0.9626 - val_loss: 0.0081 - val_accuracy: 0.9979\n",
      "Epoch 155/200\n",
      "1302/1302 [==============================] - 49s 38ms/step - loss: 0.1090 - accuracy: 0.9632 - val_loss: 0.0099 - val_accuracy: 0.9977\n",
      "Epoch 156/200\n",
      "1302/1302 [==============================] - 49s 38ms/step - loss: 0.1086 - accuracy: 0.9634 - val_loss: 0.0121 - val_accuracy: 0.9971\n",
      "Epoch 157/200\n",
      "1302/1302 [==============================] - 49s 38ms/step - loss: 0.1091 - accuracy: 0.9632 - val_loss: 0.0082 - val_accuracy: 0.9984\n",
      "Epoch 158/200\n",
      "1302/1302 [==============================] - 50s 38ms/step - loss: 0.1101 - accuracy: 0.9632 - val_loss: 0.0084 - val_accuracy: 0.9982\n",
      "Epoch 159/200\n",
      "1302/1302 [==============================] - 52s 40ms/step - loss: 0.1082 - accuracy: 0.9630 - val_loss: 0.0099 - val_accuracy: 0.9977\n",
      "Epoch 160/200\n",
      "1302/1302 [==============================] - 51s 39ms/step - loss: 0.1080 - accuracy: 0.9633 - val_loss: 0.0070 - val_accuracy: 0.9987\n",
      "Epoch 161/200\n",
      "1302/1302 [==============================] - 50s 38ms/step - loss: 0.1099 - accuracy: 0.9632 - val_loss: 0.0119 - val_accuracy: 0.9973\n",
      "Epoch 162/200\n",
      "1302/1302 [==============================] - 50s 38ms/step - loss: 0.1093 - accuracy: 0.9633 - val_loss: 0.0075 - val_accuracy: 0.9986\n",
      "Epoch 163/200\n",
      "1302/1302 [==============================] - 50s 38ms/step - loss: 0.1081 - accuracy: 0.9630 - val_loss: 0.0075 - val_accuracy: 0.9985\n",
      "Epoch 164/200\n",
      "1302/1302 [==============================] - 49s 38ms/step - loss: 0.1056 - accuracy: 0.9640 - val_loss: 0.0071 - val_accuracy: 0.9984\n",
      "Epoch 165/200\n",
      "1302/1302 [==============================] - 50s 38ms/step - loss: 0.1087 - accuracy: 0.9629 - val_loss: 0.0069 - val_accuracy: 0.9987\n"
     ]
    }
   ],
   "source": [
    "history_2 = model_2.fit(\n",
    "    x_train, \n",
    "    y_train,\n",
    "    epochs=epochs,\n",
    "    batch_size=batch_size,\n",
    "    verbose=1,\n",
    "    validation_data=(x_val, y_val),\n",
    "    callbacks=[\n",
    "        keras.callbacks.EarlyStopping(\n",
    "            monitor='val_loss',\n",
    "            patience=20,\n",
    "            restore_best_weights=True\n",
    "        )\n",
    "    ]\n",
    ")"
   ]
  },
  {
   "cell_type": "code",
   "execution_count": 181,
   "id": "1419823b",
   "metadata": {},
   "outputs": [
    {
     "name": "stdout",
     "output_type": "stream",
     "text": [
      "3472/3472 [==============================] - 21s 5ms/step - loss: 0.0066 - accuracy: 0.9992\n",
      "Test loss: 0.006638647988438606\n",
      "Test accuracy: 0.9992169737815857\n"
     ]
    }
   ],
   "source": [
    "score_2 = model_2.evaluate(x_test, y_test, verbose=1)\n",
    "print('Test loss:', score_2[0])\n",
    "print('Test accuracy:', score_2[1])"
   ]
  },
  {
   "cell_type": "markdown",
   "id": "00df7eae",
   "metadata": {},
   "source": [
    "### Save Model"
   ]
  },
  {
   "cell_type": "code",
   "execution_count": 182,
   "id": "0c527aa0",
   "metadata": {},
   "outputs": [],
   "source": [
    "model_2.save('C:\\\\.Farhad\\\\.Telkom\\\\Emotion Recognition\\\\Datasets\\\\DEAP\\\\all\\\\gru_model.h5')\n",
    "np.save('C:\\\\.Farhad\\\\.Telkom\\\\Emotion Recognition\\\\Datasets\\\\DEAP\\\\all\\\\gru_model.npy', history_2.history)"
   ]
  },
  {
   "cell_type": "markdown",
   "id": "93482a61",
   "metadata": {},
   "source": [
    "## Model 3: LSTM"
   ]
  },
  {
   "cell_type": "code",
   "execution_count": 183,
   "id": "b22d6973",
   "metadata": {},
   "outputs": [],
   "source": [
    "factor = 0.01\n",
    "rate = 0.2"
   ]
  },
  {
   "cell_type": "code",
   "execution_count": 184,
   "id": "4f9a8b55",
   "metadata": {},
   "outputs": [
    {
     "name": "stdout",
     "output_type": "stream",
     "text": [
      "Model: \"sequential_14\"\n",
      "_________________________________________________________________\n",
      "Layer (type)                 Output Shape              Param #   \n",
      "=================================================================\n",
      "conv1d_31 (Conv1D)           (None, 254, 128)          512       \n",
      "_________________________________________________________________\n",
      "max_pooling1d_31 (MaxPooling (None, 127, 128)          0         \n",
      "_________________________________________________________________\n",
      "dropout_73 (Dropout)         (None, 127, 128)          0         \n",
      "_________________________________________________________________\n",
      "conv1d_32 (Conv1D)           (None, 125, 128)          49280     \n",
      "_________________________________________________________________\n",
      "max_pooling1d_32 (MaxPooling (None, 62, 128)           0         \n",
      "_________________________________________________________________\n",
      "dropout_74 (Dropout)         (None, 62, 128)           0         \n",
      "_________________________________________________________________\n",
      "lstm_26 (LSTM)               (None, 62, 256)           394240    \n",
      "_________________________________________________________________\n",
      "dropout_75 (Dropout)         (None, 62, 256)           0         \n",
      "_________________________________________________________________\n",
      "lstm_27 (LSTM)               (None, 32)                36992     \n",
      "_________________________________________________________________\n",
      "dropout_76 (Dropout)         (None, 32)                0         \n",
      "_________________________________________________________________\n",
      "flatten_14 (Flatten)         (None, 32)                0         \n",
      "_________________________________________________________________\n",
      "dense_28 (Dense)             (None, 128)               4224      \n",
      "_________________________________________________________________\n",
      "dropout_77 (Dropout)         (None, 128)               0         \n",
      "_________________________________________________________________\n",
      "dense_29 (Dense)             (None, 4)                 516       \n",
      "_________________________________________________________________\n",
      "activation_14 (Activation)   (None, 4)                 0         \n",
      "=================================================================\n",
      "Total params: 485,764\n",
      "Trainable params: 485,764\n",
      "Non-trainable params: 0\n",
      "_________________________________________________________________\n"
     ]
    }
   ],
   "source": [
    "model_3 = Sequential()\n",
    "\n",
    "model_3.add(Conv1D(128, 3, activation='relu', input_shape=input_shape))\n",
    "model_3.add(MaxPooling1D(pool_size=2))\n",
    "model_3.add(Dropout(rate))\n",
    "\n",
    "model_3.add(Conv1D(128, 3, activation='relu'))\n",
    "model_3.add(MaxPooling1D(pool_size=2))\n",
    "model_3.add(Dropout(rate))\n",
    "\n",
    "model_3.add(LSTM(units = 256, return_sequences=True))  \n",
    "model_3.add(Dropout(rate))\n",
    "\n",
    "model_3.add(LSTM(units = 32))\n",
    "model_3.add(Dropout(rate))\n",
    "\n",
    "model_3.add(Flatten())\n",
    "\n",
    "model_3.add(Dense(units = 128, activation='relu'))\n",
    "model_3.add(Dropout(rate))\n",
    "\n",
    "model_3.add(Dense(units = num_classes))\n",
    "model_3.add(Activation('softmax'))\n",
    "\n",
    "model_3.summary()"
   ]
  },
  {
   "cell_type": "code",
   "execution_count": 185,
   "id": "6080574d",
   "metadata": {},
   "outputs": [],
   "source": [
    "model_3.compile(\n",
    "    optimizer =\"adam\",\n",
    "    loss = 'categorical_crossentropy',\n",
    "    metrics=[\"accuracy\"]\n",
    ")"
   ]
  },
  {
   "cell_type": "code",
   "execution_count": 186,
   "id": "ed67502b",
   "metadata": {},
   "outputs": [
    {
     "name": "stdout",
     "output_type": "stream",
     "text": [
      "Epoch 1/200\n",
      "1302/1302 [==============================] - 77s 53ms/step - loss: 1.3662 - accuracy: 0.3418 - val_loss: 1.3640 - val_accuracy: 0.3428\n",
      "Epoch 2/200\n",
      "1302/1302 [==============================] - 67s 51ms/step - loss: 1.3630 - accuracy: 0.3423 - val_loss: 1.3598 - val_accuracy: 0.3455\n",
      "Epoch 3/200\n",
      "1302/1302 [==============================] - 67s 52ms/step - loss: 1.3603 - accuracy: 0.3449 - val_loss: 1.3560 - val_accuracy: 0.3463\n",
      "Epoch 4/200\n",
      "1302/1302 [==============================] - 66s 51ms/step - loss: 1.3567 - accuracy: 0.3465 - val_loss: 1.3478 - val_accuracy: 0.3517\n",
      "Epoch 5/200\n",
      "1302/1302 [==============================] - 66s 51ms/step - loss: 1.3492 - accuracy: 0.3506 - val_loss: 1.3333 - val_accuracy: 0.3607\n",
      "Epoch 6/200\n",
      "1302/1302 [==============================] - 67s 52ms/step - loss: 1.3341 - accuracy: 0.3609 - val_loss: 1.2949 - val_accuracy: 0.3911\n",
      "Epoch 7/200\n",
      "1302/1302 [==============================] - 67s 51ms/step - loss: 1.2975 - accuracy: 0.3885 - val_loss: 1.1971 - val_accuracy: 0.4661\n",
      "Epoch 8/200\n",
      "1302/1302 [==============================] - 67s 51ms/step - loss: 1.2244 - accuracy: 0.4444 - val_loss: 1.0539 - val_accuracy: 0.5569\n",
      "Epoch 9/200\n",
      "1302/1302 [==============================] - 67s 52ms/step - loss: 1.1287 - accuracy: 0.5056 - val_loss: 0.9199 - val_accuracy: 0.6269\n",
      "Epoch 10/200\n",
      "1302/1302 [==============================] - 67s 51ms/step - loss: 1.0319 - accuracy: 0.5617 - val_loss: 0.7774 - val_accuracy: 0.7050\n",
      "Epoch 11/200\n",
      "1302/1302 [==============================] - 67s 51ms/step - loss: 0.9371 - accuracy: 0.6122 - val_loss: 0.6571 - val_accuracy: 0.7623\n",
      "Epoch 12/200\n",
      "1302/1302 [==============================] - 67s 52ms/step - loss: 0.8565 - accuracy: 0.6527 - val_loss: 0.5532 - val_accuracy: 0.8017\n",
      "Epoch 13/200\n",
      "1302/1302 [==============================] - 67s 51ms/step - loss: 0.7827 - accuracy: 0.6890 - val_loss: 0.4649 - val_accuracy: 0.8413\n",
      "Epoch 14/200\n",
      "1302/1302 [==============================] - 67s 52ms/step - loss: 0.7147 - accuracy: 0.7216 - val_loss: 0.3922 - val_accuracy: 0.8689\n",
      "Epoch 15/200\n",
      "1302/1302 [==============================] - 67s 51ms/step - loss: 0.6605 - accuracy: 0.7441 - val_loss: 0.3214 - val_accuracy: 0.8987\n",
      "Epoch 16/200\n",
      "1302/1302 [==============================] - 67s 51ms/step - loss: 0.6085 - accuracy: 0.7682 - val_loss: 0.2767 - val_accuracy: 0.9169\n",
      "Epoch 17/200\n",
      "1302/1302 [==============================] - 67s 52ms/step - loss: 0.5633 - accuracy: 0.7866 - val_loss: 0.2299 - val_accuracy: 0.9307\n",
      "Epoch 18/200\n",
      "1302/1302 [==============================] - 67s 52ms/step - loss: 0.5297 - accuracy: 0.8017 - val_loss: 0.1950 - val_accuracy: 0.9455\n",
      "Epoch 19/200\n",
      "1302/1302 [==============================] - 67s 51ms/step - loss: 0.4943 - accuracy: 0.8160 - val_loss: 0.1680 - val_accuracy: 0.9523\n",
      "Epoch 20/200\n",
      "1302/1302 [==============================] - 67s 52ms/step - loss: 0.4661 - accuracy: 0.8281 - val_loss: 0.1475 - val_accuracy: 0.9617\n",
      "Epoch 21/200\n",
      "1302/1302 [==============================] - 67s 51ms/step - loss: 0.4430 - accuracy: 0.8380 - val_loss: 0.1253 - val_accuracy: 0.9691\n",
      "Epoch 22/200\n",
      "1302/1302 [==============================] - 67s 52ms/step - loss: 0.4188 - accuracy: 0.8462 - val_loss: 0.1117 - val_accuracy: 0.9730\n",
      "Epoch 23/200\n",
      "1302/1302 [==============================] - 67s 51ms/step - loss: 0.3980 - accuracy: 0.8553 - val_loss: 0.0930 - val_accuracy: 0.9787\n",
      "Epoch 24/200\n",
      "1302/1302 [==============================] - 67s 51ms/step - loss: 0.3787 - accuracy: 0.8634 - val_loss: 0.0939 - val_accuracy: 0.9777\n",
      "Epoch 25/200\n",
      "1302/1302 [==============================] - 67s 52ms/step - loss: 0.3622 - accuracy: 0.8689 - val_loss: 0.0826 - val_accuracy: 0.9807\n",
      "Epoch 26/200\n",
      "1302/1302 [==============================] - 67s 51ms/step - loss: 0.3511 - accuracy: 0.8738 - val_loss: 0.0623 - val_accuracy: 0.9874\n",
      "Epoch 27/200\n",
      "1302/1302 [==============================] - 67s 51ms/step - loss: 0.3313 - accuracy: 0.8811 - val_loss: 0.0641 - val_accuracy: 0.9866\n",
      "Epoch 28/200\n",
      "1302/1302 [==============================] - 67s 52ms/step - loss: 0.3250 - accuracy: 0.8840 - val_loss: 0.0529 - val_accuracy: 0.9907\n",
      "Epoch 29/200\n",
      "1302/1302 [==============================] - 66s 51ms/step - loss: 0.3096 - accuracy: 0.8900 - val_loss: 0.0417 - val_accuracy: 0.9922\n",
      "Epoch 30/200\n",
      "1302/1302 [==============================] - 67s 52ms/step - loss: 0.2965 - accuracy: 0.8954 - val_loss: 0.0398 - val_accuracy: 0.9919\n",
      "Epoch 31/200\n",
      "1302/1302 [==============================] - 66s 51ms/step - loss: 0.2853 - accuracy: 0.8985 - val_loss: 0.0353 - val_accuracy: 0.9941\n",
      "Epoch 32/200\n",
      "1302/1302 [==============================] - 66s 51ms/step - loss: 0.2806 - accuracy: 0.9009 - val_loss: 0.0340 - val_accuracy: 0.9934\n",
      "Epoch 33/200\n",
      "1302/1302 [==============================] - 67s 52ms/step - loss: 0.2723 - accuracy: 0.9039 - val_loss: 0.0334 - val_accuracy: 0.9945\n",
      "Epoch 34/200\n",
      "1302/1302 [==============================] - 67s 51ms/step - loss: 0.2632 - accuracy: 0.9077 - val_loss: 0.0283 - val_accuracy: 0.9957\n",
      "Epoch 35/200\n",
      "1302/1302 [==============================] - 67s 51ms/step - loss: 0.2554 - accuracy: 0.9115 - val_loss: 0.0324 - val_accuracy: 0.9935\n",
      "Epoch 36/200\n",
      "1302/1302 [==============================] - 67s 52ms/step - loss: 0.2478 - accuracy: 0.9124 - val_loss: 0.0255 - val_accuracy: 0.9953\n",
      "Epoch 37/200\n",
      "1302/1302 [==============================] - 67s 51ms/step - loss: 0.2423 - accuracy: 0.9157 - val_loss: 0.0219 - val_accuracy: 0.9966\n",
      "Epoch 38/200\n",
      "1302/1302 [==============================] - 67s 52ms/step - loss: 0.2351 - accuracy: 0.9174 - val_loss: 0.0225 - val_accuracy: 0.9955\n",
      "Epoch 39/200\n",
      "1302/1302 [==============================] - 67s 51ms/step - loss: 0.2296 - accuracy: 0.9212 - val_loss: 0.0195 - val_accuracy: 0.9972\n",
      "Epoch 40/200\n",
      "1302/1302 [==============================] - 67s 51ms/step - loss: 0.2224 - accuracy: 0.9224 - val_loss: 0.0213 - val_accuracy: 0.9966\n",
      "Epoch 41/200\n",
      "1302/1302 [==============================] - 67s 51ms/step - loss: 0.2189 - accuracy: 0.9242 - val_loss: 0.0194 - val_accuracy: 0.9965\n",
      "Epoch 42/200\n",
      "1302/1302 [==============================] - 67s 51ms/step - loss: 0.2132 - accuracy: 0.9260 - val_loss: 0.0169 - val_accuracy: 0.9973\n",
      "Epoch 43/200\n",
      "1302/1302 [==============================] - 67s 51ms/step - loss: 0.2128 - accuracy: 0.9262 - val_loss: 0.0173 - val_accuracy: 0.9971\n",
      "Epoch 44/200\n",
      "1302/1302 [==============================] - 67s 52ms/step - loss: 0.2024 - accuracy: 0.9301 - val_loss: 0.0177 - val_accuracy: 0.9975\n",
      "Epoch 45/200\n",
      "1302/1302 [==============================] - 67s 51ms/step - loss: 0.1992 - accuracy: 0.9309 - val_loss: 0.0132 - val_accuracy: 0.9985\n",
      "Epoch 46/200\n",
      "1302/1302 [==============================] - 67s 52ms/step - loss: 0.1967 - accuracy: 0.9325 - val_loss: 0.0162 - val_accuracy: 0.9977\n",
      "Epoch 47/200\n",
      "1302/1302 [==============================] - 68s 52ms/step - loss: 0.1925 - accuracy: 0.9337 - val_loss: 0.0150 - val_accuracy: 0.9977\n",
      "Epoch 48/200\n",
      "1302/1302 [==============================] - 68s 52ms/step - loss: 0.1903 - accuracy: 0.9345 - val_loss: 0.0119 - val_accuracy: 0.9983\n",
      "Epoch 49/200\n",
      "1302/1302 [==============================] - 71s 54ms/step - loss: 0.1895 - accuracy: 0.9346 - val_loss: 0.0112 - val_accuracy: 0.9987\n",
      "Epoch 50/200\n",
      "1302/1302 [==============================] - 68s 52ms/step - loss: 0.1846 - accuracy: 0.9364 - val_loss: 0.0120 - val_accuracy: 0.9986\n",
      "Epoch 51/200\n",
      "1302/1302 [==============================] - 68s 52ms/step - loss: 0.1786 - accuracy: 0.9393 - val_loss: 0.0118 - val_accuracy: 0.9985\n",
      "Epoch 52/200\n",
      "1302/1302 [==============================] - 68s 52ms/step - loss: 0.1774 - accuracy: 0.9389 - val_loss: 0.0117 - val_accuracy: 0.9981\n",
      "Epoch 53/200\n",
      "1302/1302 [==============================] - 68s 52ms/step - loss: 0.1733 - accuracy: 0.9405 - val_loss: 0.0133 - val_accuracy: 0.9976\n",
      "Epoch 54/200\n",
      "1302/1302 [==============================] - 72s 55ms/step - loss: 0.1715 - accuracy: 0.9408 - val_loss: 0.0090 - val_accuracy: 0.9989\n",
      "Epoch 55/200\n",
      "1302/1302 [==============================] - 69s 53ms/step - loss: 0.1709 - accuracy: 0.9414 - val_loss: 0.0104 - val_accuracy: 0.9986\n",
      "Epoch 56/200\n",
      "1302/1302 [==============================] - 72s 55ms/step - loss: 0.1682 - accuracy: 0.9422 - val_loss: 0.0127 - val_accuracy: 0.9982\n",
      "Epoch 57/200\n",
      "1302/1302 [==============================] - 72s 55ms/step - loss: 0.1639 - accuracy: 0.9438 - val_loss: 0.0096 - val_accuracy: 0.9985\n",
      "Epoch 58/200\n",
      "1302/1302 [==============================] - 72s 55ms/step - loss: 0.1617 - accuracy: 0.9444 - val_loss: 0.0089 - val_accuracy: 0.9991\n",
      "Epoch 59/200\n",
      "1302/1302 [==============================] - 72s 55ms/step - loss: 0.1609 - accuracy: 0.9451 - val_loss: 0.0102 - val_accuracy: 0.9988\n",
      "Epoch 60/200\n",
      "1302/1302 [==============================] - 71s 54ms/step - loss: 0.1565 - accuracy: 0.9467 - val_loss: 0.0114 - val_accuracy: 0.9980\n",
      "Epoch 61/200\n",
      "1302/1302 [==============================] - 69s 53ms/step - loss: 0.1559 - accuracy: 0.9466 - val_loss: 0.0082 - val_accuracy: 0.9990 loss: 0.1559 - accu\n",
      "Epoch 62/200\n",
      "1302/1302 [==============================] - 68s 52ms/step - loss: 0.1548 - accuracy: 0.9473 - val_loss: 0.0099 - val_accuracy: 0.9986\n",
      "Epoch 63/200\n",
      "1302/1302 [==============================] - 68s 52ms/step - loss: 0.1542 - accuracy: 0.9472 - val_loss: 0.0093 - val_accuracy: 0.9985\n",
      "Epoch 64/200\n",
      "1302/1302 [==============================] - 68s 52ms/step - loss: 0.1477 - accuracy: 0.9494 - val_loss: 0.0094 - val_accuracy: 0.9980\n",
      "Epoch 65/200\n",
      "1302/1302 [==============================] - 67s 51ms/step - loss: 0.1476 - accuracy: 0.9496 - val_loss: 0.0080 - val_accuracy: 0.9992\n",
      "Epoch 66/200\n",
      "1302/1302 [==============================] - 66s 51ms/step - loss: 0.1473 - accuracy: 0.9498 - val_loss: 0.0072 - val_accuracy: 0.9991\n",
      "Epoch 67/200\n",
      "1302/1302 [==============================] - 67s 52ms/step - loss: 0.1444 - accuracy: 0.9511 - val_loss: 0.0085 - val_accuracy: 0.9990\n",
      "Epoch 68/200\n",
      "1302/1302 [==============================] - 66s 51ms/step - loss: 0.1448 - accuracy: 0.9504 - val_loss: 0.0072 - val_accuracy: 0.9989\n",
      "Epoch 69/200\n",
      "1302/1302 [==============================] - 67s 51ms/step - loss: 0.1418 - accuracy: 0.9520 - val_loss: 0.0080 - val_accuracy: 0.9989\n",
      "Epoch 70/200\n",
      "1302/1302 [==============================] - 67s 51ms/step - loss: 0.1375 - accuracy: 0.9532 - val_loss: 0.0067 - val_accuracy: 0.9991\n",
      "Epoch 71/200\n",
      "1302/1302 [==============================] - 66s 51ms/step - loss: 0.1399 - accuracy: 0.9524 - val_loss: 0.0066 - val_accuracy: 0.9994\n",
      "Epoch 72/200\n",
      "1302/1302 [==============================] - 67s 51ms/step - loss: 0.1399 - accuracy: 0.9520 - val_loss: 0.0071 - val_accuracy: 0.9990\n",
      "Epoch 73/200\n",
      "1302/1302 [==============================] - 67s 52ms/step - loss: 0.1347 - accuracy: 0.9543 - val_loss: 0.0056 - val_accuracy: 0.9994\n",
      "Epoch 74/200\n",
      "1302/1302 [==============================] - 67s 51ms/step - loss: 0.1340 - accuracy: 0.9547 - val_loss: 0.0067 - val_accuracy: 0.9994\n",
      "Epoch 75/200\n",
      "1302/1302 [==============================] - 67s 52ms/step - loss: 0.1344 - accuracy: 0.9544 - val_loss: 0.0064 - val_accuracy: 0.9993\n",
      "Epoch 76/200\n",
      "1302/1302 [==============================] - 67s 52ms/step - loss: 0.1313 - accuracy: 0.9555 - val_loss: 0.0058 - val_accuracy: 0.9990\n",
      "Epoch 77/200\n",
      "1302/1302 [==============================] - 67s 51ms/step - loss: 0.1311 - accuracy: 0.9555 - val_loss: 0.0062 - val_accuracy: 0.9991\n",
      "Epoch 78/200\n",
      "1302/1302 [==============================] - 68s 52ms/step - loss: 0.1297 - accuracy: 0.9562 - val_loss: 0.0057 - val_accuracy: 0.9992\n",
      "Epoch 79/200\n",
      "1302/1302 [==============================] - 67s 52ms/step - loss: 0.1284 - accuracy: 0.9570 - val_loss: 0.0070 - val_accuracy: 0.9987\n",
      "Epoch 80/200\n",
      "1302/1302 [==============================] - 67s 52ms/step - loss: 0.1277 - accuracy: 0.9567 - val_loss: 0.0075 - val_accuracy: 0.9987\n",
      "Epoch 81/200\n",
      "1302/1302 [==============================] - 67s 51ms/step - loss: 0.1272 - accuracy: 0.9573 - val_loss: 0.0059 - val_accuracy: 0.9992\n",
      "Epoch 82/200\n",
      "1302/1302 [==============================] - 67s 51ms/step - loss: 0.1244 - accuracy: 0.9579 - val_loss: 0.0050 - val_accuracy: 0.9996\n",
      "Epoch 83/200\n",
      "1302/1302 [==============================] - 67s 52ms/step - loss: 0.1232 - accuracy: 0.9582 - val_loss: 0.0048 - val_accuracy: 0.9994\n",
      "Epoch 84/200\n",
      "1302/1302 [==============================] - 67s 51ms/step - loss: 0.1233 - accuracy: 0.9584 - val_loss: 0.0051 - val_accuracy: 0.9993\n",
      "Epoch 85/200\n",
      "1302/1302 [==============================] - 67s 51ms/step - loss: 0.1208 - accuracy: 0.9597 - val_loss: 0.0052 - val_accuracy: 0.9994\n",
      "Epoch 86/200\n",
      "1302/1302 [==============================] - 67s 52ms/step - loss: 0.1205 - accuracy: 0.9599 - val_loss: 0.0043 - val_accuracy: 0.9995\n",
      "Epoch 87/200\n",
      "1302/1302 [==============================] - 67s 51ms/step - loss: 0.1198 - accuracy: 0.9596 - val_loss: 0.0045 - val_accuracy: 0.9994\n",
      "Epoch 88/200\n",
      "1302/1302 [==============================] - 68s 52ms/step - loss: 0.1176 - accuracy: 0.9599 - val_loss: 0.0047 - val_accuracy: 0.9995\n",
      "Epoch 89/200\n",
      "1302/1302 [==============================] - 67s 51ms/step - loss: 0.1168 - accuracy: 0.9602 - val_loss: 0.0066 - val_accuracy: 0.9992\n",
      "Epoch 90/200\n",
      "1302/1302 [==============================] - 67s 51ms/step - loss: 0.1151 - accuracy: 0.9612 - val_loss: 0.0060 - val_accuracy: 0.9990\n",
      "Epoch 91/200\n",
      "1302/1302 [==============================] - 68s 52ms/step - loss: 0.1155 - accuracy: 0.9610 - val_loss: 0.0048 - val_accuracy: 0.9994\n",
      "Epoch 92/200\n",
      "1302/1302 [==============================] - 67s 52ms/step - loss: 0.1153 - accuracy: 0.9611 - val_loss: 0.0035 - val_accuracy: 0.9997\n",
      "Epoch 93/200\n",
      "1302/1302 [==============================] - 67s 51ms/step - loss: 0.1144 - accuracy: 0.9611 - val_loss: 0.0043 - val_accuracy: 0.9995\n",
      "Epoch 94/200\n",
      "1302/1302 [==============================] - 67s 52ms/step - loss: 0.1131 - accuracy: 0.9616 - val_loss: 0.0041 - val_accuracy: 0.9995\n",
      "Epoch 95/200\n",
      "1302/1302 [==============================] - 67s 51ms/step - loss: 0.1100 - accuracy: 0.9627 - val_loss: 0.0061 - val_accuracy: 0.9988\n",
      "Epoch 96/200\n",
      "1302/1302 [==============================] - 68s 52ms/step - loss: 0.1097 - accuracy: 0.9625 - val_loss: 0.0051 - val_accuracy: 0.9994\n",
      "Epoch 97/200\n",
      "1302/1302 [==============================] - 67s 52ms/step - loss: 0.1106 - accuracy: 0.9631 - val_loss: 0.0042 - val_accuracy: 0.9993\n",
      "Epoch 98/200\n",
      "1302/1302 [==============================] - 67s 51ms/step - loss: 0.1088 - accuracy: 0.9633 - val_loss: 0.0040 - val_accuracy: 0.9995\n",
      "Epoch 99/200\n",
      "1302/1302 [==============================] - 67s 51ms/step - loss: 0.1092 - accuracy: 0.9632 - val_loss: 0.0050 - val_accuracy: 0.9991\n",
      "Epoch 100/200\n",
      "1302/1302 [==============================] - 67s 51ms/step - loss: 0.1061 - accuracy: 0.9645 - val_loss: 0.0042 - val_accuracy: 0.9995\n",
      "Epoch 101/200\n",
      "1302/1302 [==============================] - 67s 52ms/step - loss: 0.1064 - accuracy: 0.9644 - val_loss: 0.0048 - val_accuracy: 0.9993\n",
      "Epoch 102/200\n",
      "1302/1302 [==============================] - 72s 55ms/step - loss: 0.1077 - accuracy: 0.9638 - val_loss: 0.0048 - val_accuracy: 0.9994\n",
      "Epoch 103/200\n",
      "1302/1302 [==============================] - 71s 54ms/step - loss: 0.1055 - accuracy: 0.9644 - val_loss: 0.0048 - val_accuracy: 0.9995\n",
      "Epoch 104/200\n",
      "1302/1302 [==============================] - 68s 52ms/step - loss: 0.1055 - accuracy: 0.9642 - val_loss: 0.0042 - val_accuracy: 0.9994\n",
      "Epoch 105/200\n",
      "1302/1302 [==============================] - 67s 52ms/step - loss: 0.1055 - accuracy: 0.9648 - val_loss: 0.0046 - val_accuracy: 0.9994\n",
      "Epoch 106/200\n",
      "1302/1302 [==============================] - 67s 52ms/step - loss: 0.1034 - accuracy: 0.9651 - val_loss: 0.0041 - val_accuracy: 0.9997\n",
      "Epoch 107/200\n",
      "1302/1302 [==============================] - 69s 53ms/step - loss: 0.1027 - accuracy: 0.9651 - val_loss: 0.0043 - val_accuracy: 0.9993\n",
      "Epoch 108/200\n",
      "1302/1302 [==============================] - 68s 52ms/step - loss: 0.1007 - accuracy: 0.9665 - val_loss: 0.0035 - val_accuracy: 0.9995\n",
      "Epoch 109/200\n",
      "1302/1302 [==============================] - 66s 51ms/step - loss: 0.1017 - accuracy: 0.9656 - val_loss: 0.0040 - val_accuracy: 0.9996\n",
      "Epoch 110/200\n",
      "1302/1302 [==============================] - 67s 51ms/step - loss: 0.0998 - accuracy: 0.9664 - val_loss: 0.0037 - val_accuracy: 0.9996\n",
      "Epoch 111/200\n"
     ]
    },
    {
     "name": "stdout",
     "output_type": "stream",
     "text": [
      "1302/1302 [==============================] - 66s 51ms/step - loss: 0.1008 - accuracy: 0.9661 - val_loss: 0.0035 - val_accuracy: 0.9997\n",
      "Epoch 112/200\n",
      "1302/1302 [==============================] - 67s 51ms/step - loss: 0.1001 - accuracy: 0.9660 - val_loss: 0.0032 - val_accuracy: 0.9997\n",
      "Epoch 113/200\n",
      "1302/1302 [==============================] - 66s 51ms/step - loss: 0.0996 - accuracy: 0.9663 - val_loss: 0.0036 - val_accuracy: 0.9996\n",
      "Epoch 114/200\n",
      "1302/1302 [==============================] - 66s 51ms/step - loss: 0.0992 - accuracy: 0.9665 - val_loss: 0.0040 - val_accuracy: 0.9994\n",
      "Epoch 115/200\n",
      "1302/1302 [==============================] - 67s 52ms/step - loss: 0.0969 - accuracy: 0.9676 - val_loss: 0.0032 - val_accuracy: 0.9996\n",
      "Epoch 116/200\n",
      "1302/1302 [==============================] - 67s 51ms/step - loss: 0.0960 - accuracy: 0.9674 - val_loss: 0.0027 - val_accuracy: 0.9997\n",
      "Epoch 117/200\n",
      "1302/1302 [==============================] - 68s 52ms/step - loss: 0.0949 - accuracy: 0.9684 - val_loss: 0.0033 - val_accuracy: 0.9995\n",
      "Epoch 118/200\n",
      "1302/1302 [==============================] - 70s 54ms/step - loss: 0.0943 - accuracy: 0.9682 - val_loss: 0.0032 - val_accuracy: 0.9996\n",
      "Epoch 119/200\n",
      "1302/1302 [==============================] - 68s 52ms/step - loss: 0.0936 - accuracy: 0.9686 - val_loss: 0.0031 - val_accuracy: 0.9997\n",
      "Epoch 120/200\n",
      "1302/1302 [==============================] - 72s 56ms/step - loss: 0.0927 - accuracy: 0.9689 - val_loss: 0.0051 - val_accuracy: 0.9993\n",
      "Epoch 121/200\n",
      "1302/1302 [==============================] - 69s 53ms/step - loss: 0.0956 - accuracy: 0.9681 - val_loss: 0.0039 - val_accuracy: 0.9994\n",
      "Epoch 122/200\n",
      "1302/1302 [==============================] - 69s 53ms/step - loss: 0.0952 - accuracy: 0.9682 - val_loss: 0.0030 - val_accuracy: 0.9997\n",
      "Epoch 123/200\n",
      "1302/1302 [==============================] - 74s 57ms/step - loss: 0.0930 - accuracy: 0.9685 - val_loss: 0.0039 - val_accuracy: 0.9994\n",
      "Epoch 124/200\n",
      "1302/1302 [==============================] - 73s 56ms/step - loss: 0.0919 - accuracy: 0.9695 - val_loss: 0.0024 - val_accuracy: 0.9999\n",
      "Epoch 125/200\n",
      "1302/1302 [==============================] - 73s 56ms/step - loss: 0.0911 - accuracy: 0.9696 - val_loss: 0.0033 - val_accuracy: 0.9995\n",
      "Epoch 126/200\n",
      "1302/1302 [==============================] - 73s 56ms/step - loss: 0.0926 - accuracy: 0.9692 - val_loss: 0.0040 - val_accuracy: 0.9994\n",
      "Epoch 127/200\n",
      "1302/1302 [==============================] - 74s 56ms/step - loss: 0.0904 - accuracy: 0.9699 - val_loss: 0.0027 - val_accuracy: 0.9997\n",
      "Epoch 128/200\n",
      "1302/1302 [==============================] - 73s 56ms/step - loss: 0.0883 - accuracy: 0.9705 - val_loss: 0.0035 - val_accuracy: 0.9995\n",
      "Epoch 129/200\n",
      "1302/1302 [==============================] - 73s 56ms/step - loss: 0.0904 - accuracy: 0.9696 - val_loss: 0.0020 - val_accuracy: 0.9998\n",
      "Epoch 130/200\n",
      "1302/1302 [==============================] - 73s 56ms/step - loss: 0.0867 - accuracy: 0.9710 - val_loss: 0.0027 - val_accuracy: 0.9999\n",
      "Epoch 131/200\n",
      "1302/1302 [==============================] - 74s 57ms/step - loss: 0.0889 - accuracy: 0.9707 - val_loss: 0.0029 - val_accuracy: 0.9997\n",
      "Epoch 132/200\n",
      "1302/1302 [==============================] - 73s 56ms/step - loss: 0.0877 - accuracy: 0.9708 - val_loss: 0.0024 - val_accuracy: 0.9997\n",
      "Epoch 133/200\n",
      "1302/1302 [==============================] - 74s 57ms/step - loss: 0.0875 - accuracy: 0.9707 - val_loss: 0.0029 - val_accuracy: 0.9996\n",
      "Epoch 134/200\n",
      "1302/1302 [==============================] - 73s 56ms/step - loss: 0.0888 - accuracy: 0.9703 - val_loss: 0.0023 - val_accuracy: 0.9997\n",
      "Epoch 135/200\n",
      "1302/1302 [==============================] - 73s 56ms/step - loss: 0.0879 - accuracy: 0.9710 - val_loss: 0.0024 - val_accuracy: 0.9997\n",
      "Epoch 136/200\n",
      "1302/1302 [==============================] - 73s 56ms/step - loss: 0.0847 - accuracy: 0.9719 - val_loss: 0.0029 - val_accuracy: 0.9996\n",
      "Epoch 137/200\n",
      "1302/1302 [==============================] - 73s 56ms/step - loss: 0.0884 - accuracy: 0.9701 - val_loss: 0.0025 - val_accuracy: 0.9997\n",
      "Epoch 138/200\n",
      "1302/1302 [==============================] - 73s 56ms/step - loss: 0.0845 - accuracy: 0.9716 - val_loss: 0.0022 - val_accuracy: 0.9998\n",
      "Epoch 139/200\n",
      "1302/1302 [==============================] - 73s 56ms/step - loss: 0.0851 - accuracy: 0.9714 - val_loss: 0.0023 - val_accuracy: 0.9998\n",
      "Epoch 140/200\n",
      "1302/1302 [==============================] - 73s 56ms/step - loss: 0.0836 - accuracy: 0.9721 - val_loss: 0.0028 - val_accuracy: 0.9996\n",
      "Epoch 141/200\n",
      "1302/1302 [==============================] - 74s 57ms/step - loss: 0.0838 - accuracy: 0.9718 - val_loss: 0.0023 - val_accuracy: 0.9997\n",
      "Epoch 142/200\n",
      "1302/1302 [==============================] - 75s 58ms/step - loss: 0.0832 - accuracy: 0.9722 - val_loss: 0.0030 - val_accuracy: 0.9997\n",
      "Epoch 143/200\n",
      "1302/1302 [==============================] - 76s 59ms/step - loss: 0.0840 - accuracy: 0.9724 - val_loss: 0.0029 - val_accuracy: 0.9996\n",
      "Epoch 144/200\n",
      "1302/1302 [==============================] - 79s 60ms/step - loss: 0.0828 - accuracy: 0.9724 - val_loss: 0.0021 - val_accuracy: 0.9999\n",
      "Epoch 145/200\n",
      "1302/1302 [==============================] - 81s 62ms/step - loss: 0.0811 - accuracy: 0.9729 - val_loss: 0.0025 - val_accuracy: 0.9998\n",
      "Epoch 146/200\n",
      "1302/1302 [==============================] - 77s 59ms/step - loss: 0.0802 - accuracy: 0.9731 - val_loss: 0.0020 - val_accuracy: 0.9999\n",
      "Epoch 147/200\n",
      "1302/1302 [==============================] - 75s 57ms/step - loss: 0.0813 - accuracy: 0.9724 - val_loss: 0.0025 - val_accuracy: 0.9996\n",
      "Epoch 148/200\n",
      "1302/1302 [==============================] - 73s 56ms/step - loss: 0.0824 - accuracy: 0.9725 - val_loss: 0.0025 - val_accuracy: 0.9996\n",
      "Epoch 149/200\n",
      "1302/1302 [==============================] - 75s 58ms/step - loss: 0.0800 - accuracy: 0.9734 - val_loss: 0.0016 - val_accuracy: 0.9999\n",
      "Epoch 150/200\n",
      "1302/1302 [==============================] - 74s 57ms/step - loss: 0.0804 - accuracy: 0.9735 - val_loss: 0.0019 - val_accuracy: 0.9999\n",
      "Epoch 151/200\n",
      "1302/1302 [==============================] - 72s 55ms/step - loss: 0.0798 - accuracy: 0.9734 - val_loss: 0.0035 - val_accuracy: 0.9993\n",
      "Epoch 152/200\n",
      "1302/1302 [==============================] - 71s 54ms/step - loss: 0.0804 - accuracy: 0.9733 - val_loss: 0.0026 - val_accuracy: 0.9995\n",
      "Epoch 153/200\n",
      "1302/1302 [==============================] - 71s 55ms/step - loss: 0.0809 - accuracy: 0.9731 - val_loss: 0.0016 - val_accuracy: 0.9998\n",
      "Epoch 154/200\n",
      "1302/1302 [==============================] - 71s 55ms/step - loss: 0.0783 - accuracy: 0.9739 - val_loss: 0.0018 - val_accuracy: 0.9999\n",
      "Epoch 155/200\n",
      "1302/1302 [==============================] - 71s 55ms/step - loss: 0.0773 - accuracy: 0.9739 - val_loss: 0.0022 - val_accuracy: 0.9998\n",
      "Epoch 156/200\n",
      "1302/1302 [==============================] - 71s 55ms/step - loss: 0.0783 - accuracy: 0.9736 - val_loss: 0.0016 - val_accuracy: 0.9998\n",
      "Epoch 157/200\n",
      "1302/1302 [==============================] - 71s 55ms/step - loss: 0.0781 - accuracy: 0.9737 - val_loss: 0.0021 - val_accuracy: 0.9998\n",
      "Epoch 158/200\n",
      "1302/1302 [==============================] - 72s 55ms/step - loss: 0.0772 - accuracy: 0.9745 - val_loss: 0.0016 - val_accuracy: 0.9999\n",
      "Epoch 159/200\n",
      "1302/1302 [==============================] - 75s 57ms/step - loss: 0.0763 - accuracy: 0.9743 - val_loss: 0.0025 - val_accuracy: 0.9999\n",
      "Epoch 160/200\n",
      "1302/1302 [==============================] - 75s 57ms/step - loss: 0.0745 - accuracy: 0.9754 - val_loss: 0.0016 - val_accuracy: 0.9999\n",
      "Epoch 161/200\n",
      "1302/1302 [==============================] - 73s 56ms/step - loss: 0.0760 - accuracy: 0.9744 - val_loss: 0.0019 - val_accuracy: 0.9999\n",
      "Epoch 162/200\n",
      "1302/1302 [==============================] - 69s 53ms/step - loss: 0.0753 - accuracy: 0.9749 - val_loss: 0.0023 - val_accuracy: 0.9997\n",
      "Epoch 163/200\n",
      "1302/1302 [==============================] - 69s 53ms/step - loss: 0.0755 - accuracy: 0.9745 - val_loss: 0.0017 - val_accuracy: 0.9998\n",
      "Epoch 164/200\n",
      "1302/1302 [==============================] - 67s 52ms/step - loss: 0.0739 - accuracy: 0.9753 - val_loss: 0.0021 - val_accuracy: 0.9997\n",
      "Epoch 165/200\n",
      "1302/1302 [==============================] - 72s 55ms/step - loss: 0.0742 - accuracy: 0.9753 - val_loss: 0.0028 - val_accuracy: 0.9994\n",
      "Epoch 166/200\n"
     ]
    },
    {
     "name": "stdout",
     "output_type": "stream",
     "text": [
      "1302/1302 [==============================] - 74s 57ms/step - loss: 0.0741 - accuracy: 0.9751 - val_loss: 0.0019 - val_accuracy: 0.9999\n",
      "Epoch 167/200\n",
      "1302/1302 [==============================] - 73s 56ms/step - loss: 0.0750 - accuracy: 0.9753 - val_loss: 0.0025 - val_accuracy: 0.9997\n",
      "Epoch 168/200\n",
      "1302/1302 [==============================] - 70s 54ms/step - loss: 0.0745 - accuracy: 0.9751 - val_loss: 0.0019 - val_accuracy: 0.9997\n",
      "Epoch 169/200\n",
      "1302/1302 [==============================] - 68s 52ms/step - loss: 0.0724 - accuracy: 0.9759 - val_loss: 0.0021 - val_accuracy: 0.9998\n",
      "Epoch 170/200\n",
      "1302/1302 [==============================] - 68s 52ms/step - loss: 0.0725 - accuracy: 0.9758 - val_loss: 0.0020 - val_accuracy: 0.9999\n",
      "Epoch 171/200\n",
      "1302/1302 [==============================] - 67s 51ms/step - loss: 0.0728 - accuracy: 0.9755 - val_loss: 0.0014 - val_accuracy: 0.9999\n",
      "Epoch 172/200\n",
      "1302/1302 [==============================] - 66s 51ms/step - loss: 0.0731 - accuracy: 0.9750 - val_loss: 0.0018 - val_accuracy: 1.0000\n",
      "Epoch 173/200\n",
      "1302/1302 [==============================] - 67s 52ms/step - loss: 0.0711 - accuracy: 0.9759 - val_loss: 0.0013 - val_accuracy: 0.9999\n",
      "Epoch 174/200\n",
      "1302/1302 [==============================] - 67s 51ms/step - loss: 0.0710 - accuracy: 0.9764 - val_loss: 0.0029 - val_accuracy: 0.9997\n",
      "Epoch 175/200\n",
      "1302/1302 [==============================] - 67s 51ms/step - loss: 0.0705 - accuracy: 0.9762 - val_loss: 0.0018 - val_accuracy: 0.9999\n",
      "Epoch 176/200\n",
      "1302/1302 [==============================] - 67s 51ms/step - loss: 0.0691 - accuracy: 0.9772 - val_loss: 0.0014 - val_accuracy: 0.9999\n",
      "Epoch 177/200\n",
      "1302/1302 [==============================] - 66s 51ms/step - loss: 0.0718 - accuracy: 0.9765 - val_loss: 0.0019 - val_accuracy: 0.9997\n",
      "Epoch 178/200\n",
      "1302/1302 [==============================] - 67s 51ms/step - loss: 0.0714 - accuracy: 0.9762 - val_loss: 0.0018 - val_accuracy: 1.0000\n",
      "Epoch 179/200\n",
      "1302/1302 [==============================] - 67s 52ms/step - loss: 0.0695 - accuracy: 0.9768 - val_loss: 0.0017 - val_accuracy: 0.9997\n",
      "Epoch 180/200\n",
      "1302/1302 [==============================] - 66s 51ms/step - loss: 0.0688 - accuracy: 0.9766 - val_loss: 0.0016 - val_accuracy: 0.9999\n",
      "Epoch 181/200\n",
      "1302/1302 [==============================] - 67s 51ms/step - loss: 0.0704 - accuracy: 0.9768 - val_loss: 0.0016 - val_accuracy: 0.9999\n",
      "Epoch 182/200\n",
      "1302/1302 [==============================] - 66s 51ms/step - loss: 0.0688 - accuracy: 0.9772 - val_loss: 0.0019 - val_accuracy: 0.9997\n",
      "Epoch 183/200\n",
      "1302/1302 [==============================] - 67s 51ms/step - loss: 0.0680 - accuracy: 0.9774 - val_loss: 0.0020 - val_accuracy: 0.9997\n",
      "Epoch 184/200\n",
      "1302/1302 [==============================] - 67s 51ms/step - loss: 0.0678 - accuracy: 0.9772 - val_loss: 0.0020 - val_accuracy: 0.9996\n",
      "Epoch 185/200\n",
      "1302/1302 [==============================] - 67s 51ms/step - loss: 0.0695 - accuracy: 0.9774 - val_loss: 0.0016 - val_accuracy: 0.9999\n",
      "Epoch 186/200\n",
      "1302/1302 [==============================] - 67s 51ms/step - loss: 0.0658 - accuracy: 0.9780 - val_loss: 0.0016 - val_accuracy: 0.9999\n",
      "Epoch 187/200\n",
      "1302/1302 [==============================] - 66s 51ms/step - loss: 0.0676 - accuracy: 0.9774 - val_loss: 0.0024 - val_accuracy: 0.9998\n",
      "Epoch 188/200\n",
      "1302/1302 [==============================] - 66s 51ms/step - loss: 0.0677 - accuracy: 0.9772 - val_loss: 0.0015 - val_accuracy: 1.0000\n",
      "Epoch 189/200\n",
      "1302/1302 [==============================] - 67s 52ms/step - loss: 0.0677 - accuracy: 0.9779 - val_loss: 0.0015 - val_accuracy: 0.9999\n",
      "Epoch 190/200\n",
      "1302/1302 [==============================] - 66s 51ms/step - loss: 0.0685 - accuracy: 0.9773 - val_loss: 0.0016 - val_accuracy: 0.9998\n",
      "Epoch 191/200\n",
      "1302/1302 [==============================] - 67s 52ms/step - loss: 0.0676 - accuracy: 0.9772 - val_loss: 0.0015 - val_accuracy: 1.0000\n",
      "Epoch 192/200\n",
      "1302/1302 [==============================] - 67s 51ms/step - loss: 0.0665 - accuracy: 0.9777 - val_loss: 0.0016 - val_accuracy: 0.9998\n",
      "Epoch 193/200\n",
      "1302/1302 [==============================] - 67s 52ms/step - loss: 0.0666 - accuracy: 0.9779 - val_loss: 0.0016 - val_accuracy: 0.9997\n"
     ]
    }
   ],
   "source": [
    "history_3 = model_3.fit(\n",
    "    x_train, \n",
    "    y_train,\n",
    "    epochs=epochs,\n",
    "    batch_size=batch_size,\n",
    "    verbose=1,\n",
    "    validation_data=(x_val, y_val),\n",
    "    callbacks=[\n",
    "        keras.callbacks.EarlyStopping(\n",
    "            monitor='val_loss',\n",
    "            patience=20,\n",
    "            restore_best_weights=True\n",
    "        )\n",
    "    ]\n",
    ")"
   ]
  },
  {
   "cell_type": "code",
   "execution_count": 187,
   "id": "6627978b",
   "metadata": {},
   "outputs": [
    {
     "name": "stdout",
     "output_type": "stream",
     "text": [
      "3472/3472 [==============================] - 29s 8ms/step - loss: 0.0013 - accuracy: 1.0000\n",
      "Test loss: 0.001256258343346417\n",
      "Test accuracy: 0.9999639987945557\n"
     ]
    }
   ],
   "source": [
    "score_3 = model_3.evaluate(x_test, y_test, verbose=1)\n",
    "print('Test loss:', score_3[0])\n",
    "print('Test accuracy:', score_3[1])"
   ]
  },
  {
   "cell_type": "markdown",
   "id": "269d3454",
   "metadata": {},
   "source": [
    "### Save Model"
   ]
  },
  {
   "cell_type": "code",
   "execution_count": 188,
   "id": "a2f07334",
   "metadata": {},
   "outputs": [],
   "source": [
    "model_3.save('C:\\\\.Farhad\\\\.Telkom\\\\Emotion Recognition\\\\Datasets\\\\DEAP\\\\all\\\\lstm_model.h5')\n",
    "np.save('C:\\\\.Farhad\\\\.Telkom\\\\Emotion Recognition\\\\Datasets\\\\DEAP\\\\all\\\\lstm_model.npy', history_3.history)"
   ]
  },
  {
   "cell_type": "markdown",
   "id": "839ecf3d",
   "metadata": {},
   "source": [
    "# Load Model, Results, and Model Analysis"
   ]
  },
  {
   "cell_type": "markdown",
   "id": "6b865e02",
   "metadata": {},
   "source": [
    "## GRU Model"
   ]
  },
  {
   "cell_type": "code",
   "execution_count": 192,
   "id": "37aa4cf6",
   "metadata": {},
   "outputs": [
    {
     "name": "stdout",
     "output_type": "stream",
     "text": [
      "Model: \"sequential_13\"\n",
      "_________________________________________________________________\n",
      "Layer (type)                 Output Shape              Param #   \n",
      "=================================================================\n",
      "conv1d_29 (Conv1D)           (None, 254, 128)          512       \n",
      "_________________________________________________________________\n",
      "max_pooling1d_29 (MaxPooling (None, 127, 128)          0         \n",
      "_________________________________________________________________\n",
      "dropout_68 (Dropout)         (None, 127, 128)          0         \n",
      "_________________________________________________________________\n",
      "conv1d_30 (Conv1D)           (None, 125, 128)          49280     \n",
      "_________________________________________________________________\n",
      "max_pooling1d_30 (MaxPooling (None, 62, 128)           0         \n",
      "_________________________________________________________________\n",
      "dropout_69 (Dropout)         (None, 62, 128)           0         \n",
      "_________________________________________________________________\n",
      "gru (GRU)                    (None, 62, 256)           296448    \n",
      "_________________________________________________________________\n",
      "dropout_70 (Dropout)         (None, 62, 256)           0         \n",
      "_________________________________________________________________\n",
      "gru_1 (GRU)                  (None, 32)                27840     \n",
      "_________________________________________________________________\n",
      "dropout_71 (Dropout)         (None, 32)                0         \n",
      "_________________________________________________________________\n",
      "flatten_13 (Flatten)         (None, 32)                0         \n",
      "_________________________________________________________________\n",
      "dense_26 (Dense)             (None, 128)               4224      \n",
      "_________________________________________________________________\n",
      "dropout_72 (Dropout)         (None, 128)               0         \n",
      "_________________________________________________________________\n",
      "dense_27 (Dense)             (None, 4)                 516       \n",
      "_________________________________________________________________\n",
      "activation_13 (Activation)   (None, 4)                 0         \n",
      "=================================================================\n",
      "Total params: 378,820\n",
      "Trainable params: 378,820\n",
      "Non-trainable params: 0\n",
      "_________________________________________________________________\n"
     ]
    }
   ],
   "source": [
    "directory = 'C:\\\\.Farhad\\\\.Telkom\\\\Emotion Recognition\\\\Datasets\\\\DEAP\\\\all\\\\gru_model.h5'\n",
    "gru_model = load_model(directory)\n",
    "gru_model.summary()"
   ]
  },
  {
   "cell_type": "code",
   "execution_count": 193,
   "id": "19443330",
   "metadata": {},
   "outputs": [
    {
     "data": {
      "text/plain": [
       "dict_keys(['loss', 'accuracy', 'val_loss', 'val_accuracy'])"
      ]
     },
     "execution_count": 193,
     "metadata": {},
     "output_type": "execute_result"
    }
   ],
   "source": [
    "gru_history = np.load('C:\\\\.Farhad\\\\.Telkom\\\\Emotion Recognition\\\\Datasets\\\\DEAP\\\\all\\\\gru_model.npy',allow_pickle='TRUE').item()\n",
    "gru_history.keys()"
   ]
  },
  {
   "cell_type": "code",
   "execution_count": 194,
   "id": "48a8b9e2",
   "metadata": {},
   "outputs": [
    {
     "name": "stdout",
     "output_type": "stream",
     "text": [
      "Training Accuracy:  0.9634636640548706\n",
      "Training Loss:  0.10709526389837265\n",
      "Validation Accuracy:  0.9991719722747803\n",
      "Validation Loss:  0.0067257145419716835\n"
     ]
    }
   ],
   "source": [
    "print(\"Training Accuracy: \", np.max(gru_history['accuracy']))\n",
    "print(\"Training Loss: \", np.min(gru_history['loss']))\n",
    "print(\"Validation Accuracy: \", np.max(gru_history['val_accuracy']))\n",
    "print(\"Validation Loss: \", np.min(gru_history['val_loss']))"
   ]
  },
  {
   "cell_type": "code",
   "execution_count": 195,
   "id": "95440c44",
   "metadata": {},
   "outputs": [
    {
     "data": {
      "image/png": "[encoded data removed]",
      "text/plain": [
       "<Figure size 432x288 with 1 Axes>"
      ]
     },
     "metadata": {
      "needs_background": "light"
     },
     "output_type": "display_data"
    }
   ],
   "source": [
    "# summarize history for accuracy\n",
    "plt.plot(gru_history['accuracy'])\n",
    "plt.plot(gru_history['val_accuracy'])\n",
    "plt.title('GRU model accuracy', fontsize=16)\n",
    "plt.ylabel('accuracy', fontsize=14)\n",
    "plt.xlabel('epoch', fontsize=14)\n",
    "plt.xticks(fontsize=14)\n",
    "plt.yticks(fontsize=14)\n",
    "plt.legend(['train', 'validation'], loc='upper left', fontsize=12)\n",
    "plt.show()"
   ]
  },
  {
   "cell_type": "code",
   "execution_count": 207,
   "id": "1e10e8d5",
   "metadata": {},
   "outputs": [
    {
     "data": {
      "image/png": "[encoded data removed]",
      "text/plain": [
       "<Figure size 432x288 with 1 Axes>"
      ]
     },
     "metadata": {
      "needs_background": "light"
     },
     "output_type": "display_data"
    }
   ],
   "source": [
    "# summarize history for loss\n",
    "plt.plot(gru_history['loss'])\n",
    "plt.plot(gru_history['val_loss'])\n",
    "plt.title('GRU model loss', fontsize=16)\n",
    "plt.ylabel('loss', fontsize=14)\n",
    "plt.xlabel('epoch', fontsize=14)\n",
    "plt.xticks(fontsize=14)\n",
    "plt.yticks(fontsize=14)\n",
    "plt.legend(['train', 'validation'], loc='upper left', fontsize=12)\n",
    "plt.show()"
   ]
  },
  {
   "cell_type": "code",
   "execution_count": 199,
   "id": "6cf27625",
   "metadata": {},
   "outputs": [
    {
     "data": {
      "image/png": "[encoded data removed]",
      "text/plain": [
       "<Figure size 576x576 with 1 Axes>"
      ]
     },
     "metadata": {
      "needs_background": "light"
     },
     "output_type": "display_data"
    },
    {
     "name": "stdout",
     "output_type": "stream",
     "text": [
      "Classification Report:\n",
      "----------------------\n",
      "               precision    recall  f1-score   support\n",
      "\n",
      "           0       1.00      1.00      1.00     38125\n",
      "           1       1.00      1.00      1.00     23338\n",
      "           2       1.00      1.00      1.00     25918\n",
      "           3       1.00      1.00      1.00     23723\n",
      "\n",
      "    accuracy                           1.00    111104\n",
      "   macro avg       1.00      1.00      1.00    111104\n",
      "weighted avg       1.00      1.00      1.00    111104\n",
      "\n"
     ]
    }
   ],
   "source": [
    "class_names = ['HVHA', 'HVLA', 'LVHA', 'LVLA']\n",
    "\n",
    "y_pred = gru_model.predict(x_test)\n",
    "\n",
    "y_predict = []\n",
    "\n",
    "for i in range(len(y_pred)):\n",
    "    y_predict.append(np.argmax(y_pred[i]))\n",
    "\n",
    "y_predict = np.array(y_predict)\n",
    "yt_test = np.argmax(y_test, axis=1)\n",
    "\n",
    "cm = confusion_matrix(yt_test, y_predict)\n",
    "clr = classification_report(yt_test, y_predict)\n",
    "\n",
    "plt.figure(figsize=(8, 8))\n",
    "sns.heatmap(cm, annot=True, vmin=0, fmt='g', cbar=False, cmap='Blues', annot_kws={\"size\":14})\n",
    "plt.xticks(np.arange(4) + 0.5, class_names, fontsize=14)\n",
    "plt.yticks(np.arange(4) + 0.5, class_names, fontsize=14)\n",
    "plt.xlabel(\"Predicted\", fontsize=14)\n",
    "plt.ylabel(\"Actual\", fontsize=14)\n",
    "# plt.title(\"Confusion Matrix for GRU Model\")\n",
    "plt.show()\n",
    "\n",
    "print(\"Classification Report:\\n----------------------\\n\", clr)"
   ]
  },
  {
   "cell_type": "markdown",
   "id": "9ce43f39",
   "metadata": {},
   "source": [
    "## LSTM Model"
   ]
  },
  {
   "cell_type": "code",
   "execution_count": 200,
   "id": "5e79878f",
   "metadata": {},
   "outputs": [
    {
     "name": "stdout",
     "output_type": "stream",
     "text": [
      "Model: \"sequential_14\"\n",
      "_________________________________________________________________\n",
      "Layer (type)                 Output Shape              Param #   \n",
      "=================================================================\n",
      "conv1d_31 (Conv1D)           (None, 254, 128)          512       \n",
      "_________________________________________________________________\n",
      "max_pooling1d_31 (MaxPooling (None, 127, 128)          0         \n",
      "_________________________________________________________________\n",
      "dropout_73 (Dropout)         (None, 127, 128)          0         \n",
      "_________________________________________________________________\n",
      "conv1d_32 (Conv1D)           (None, 125, 128)          49280     \n",
      "_________________________________________________________________\n",
      "max_pooling1d_32 (MaxPooling (None, 62, 128)           0         \n",
      "_________________________________________________________________\n",
      "dropout_74 (Dropout)         (None, 62, 128)           0         \n",
      "_________________________________________________________________\n",
      "lstm_26 (LSTM)               (None, 62, 256)           394240    \n",
      "_________________________________________________________________\n",
      "dropout_75 (Dropout)         (None, 62, 256)           0         \n",
      "_________________________________________________________________\n",
      "lstm_27 (LSTM)               (None, 32)                36992     \n",
      "_________________________________________________________________\n",
      "dropout_76 (Dropout)         (None, 32)                0         \n",
      "_________________________________________________________________\n",
      "flatten_14 (Flatten)         (None, 32)                0         \n",
      "_________________________________________________________________\n",
      "dense_28 (Dense)             (None, 128)               4224      \n",
      "_________________________________________________________________\n",
      "dropout_77 (Dropout)         (None, 128)               0         \n",
      "_________________________________________________________________\n",
      "dense_29 (Dense)             (None, 4)                 516       \n",
      "_________________________________________________________________\n",
      "activation_14 (Activation)   (None, 4)                 0         \n",
      "=================================================================\n",
      "Total params: 485,764\n",
      "Trainable params: 485,764\n",
      "Non-trainable params: 0\n",
      "_________________________________________________________________\n"
     ]
    }
   ],
   "source": [
    "directory = 'C:\\\\.Farhad\\\\.Telkom\\\\Emotion Recognition\\\\Datasets\\\\DEAP\\\\all\\\\lstm_model.h5'\n",
    "lstm_model = load_model(directory)\n",
    "lstm_model.summary()"
   ]
  },
  {
   "cell_type": "code",
   "execution_count": 201,
   "id": "3998a729",
   "metadata": {},
   "outputs": [
    {
     "data": {
      "text/plain": [
       "dict_keys(['loss', 'accuracy', 'val_loss', 'val_accuracy'])"
      ]
     },
     "execution_count": 201,
     "metadata": {},
     "output_type": "execute_result"
    }
   ],
   "source": [
    "lstm_history = np.load('C:\\\\.Farhad\\\\.Telkom\\\\Emotion Recognition\\\\Datasets\\\\DEAP\\\\all\\\\lstm_model.npy',allow_pickle='TRUE').item()\n",
    "lstm_history.keys()"
   ]
  },
  {
   "cell_type": "code",
   "execution_count": 202,
   "id": "311db35a",
   "metadata": {},
   "outputs": [
    {
     "name": "stdout",
     "output_type": "stream",
     "text": [
      "Training Accuracy:  0.978035569190979\n",
      "Training Loss:  0.06662584096193314\n",
      "Validation Accuracy:  0.9999729990959167\n",
      "Validation Loss:  0.0012957279104739428\n"
     ]
    }
   ],
   "source": [
    "print(\"Training Accuracy: \", np.max(lstm_history['accuracy']))\n",
    "print(\"Training Loss: \", np.min(lstm_history['loss']))\n",
    "print(\"Validation Accuracy: \", np.max(lstm_history['val_accuracy']))\n",
    "print(\"Validation Loss: \", np.min(lstm_history['val_loss']))"
   ]
  },
  {
   "cell_type": "code",
   "execution_count": 203,
   "id": "d227add8",
   "metadata": {},
   "outputs": [
    {
     "data": {
      "image/png": "[encoded data removed]",
      "text/plain": [
       "<Figure size 432x288 with 1 Axes>"
      ]
     },
     "metadata": {
      "needs_background": "light"
     },
     "output_type": "display_data"
    }
   ],
   "source": [
    "# summarize history for accuracy\n",
    "plt.plot(lstm_history['accuracy'])\n",
    "plt.plot(lstm_history['val_accuracy'])\n",
    "plt.title('LSTM model accuracy', fontsize=16)\n",
    "plt.ylabel('accuracy', fontsize=14)\n",
    "plt.xlabel('epoch', fontsize=14)\n",
    "plt.xticks(fontsize=14)\n",
    "plt.yticks(fontsize=14)\n",
    "plt.legend(['train', 'validation'], loc='upper left', fontsize=12)\n",
    "plt.show()"
   ]
  },
  {
   "cell_type": "code",
   "execution_count": 204,
   "id": "a2467a33",
   "metadata": {},
   "outputs": [
    {
     "data": {
      "image/png": "[encoded data removed]",
      "text/plain": [
       "<Figure size 432x288 with 1 Axes>"
      ]
     },
     "metadata": {
      "needs_background": "light"
     },
     "output_type": "display_data"
    }
   ],
   "source": [
    "# summarize history for loss\n",
    "plt.plot(lstm_history['loss'])\n",
    "plt.plot(lstm_history['val_loss'])\n",
    "plt.title('LSTM model loss', fontsize=16)\n",
    "plt.ylabel('loss', fontsize=14)\n",
    "plt.xlabel('epoch', fontsize=14)\n",
    "plt.xticks(fontsize=14)\n",
    "plt.yticks(fontsize=14)\n",
    "plt.legend(['train', 'validation'], loc='upper left', fontsize=12)\n",
    "plt.show()"
   ]
  },
  {
   "cell_type": "code",
   "execution_count": 206,
   "id": "67729a62",
   "metadata": {},
   "outputs": [
    {
     "data": {
      "image/png": "[encoded data removed]",
      "text/plain": [
       "<Figure size 576x576 with 1 Axes>"
      ]
     },
     "metadata": {
      "needs_background": "light"
     },
     "output_type": "display_data"
    },
    {
     "name": "stdout",
     "output_type": "stream",
     "text": [
      "Classification Report:\n",
      "----------------------\n",
      "               precision    recall  f1-score   support\n",
      "\n",
      "           0       1.00      1.00      1.00     38125\n",
      "           1       1.00      1.00      1.00     23338\n",
      "           2       1.00      1.00      1.00     25918\n",
      "           3       1.00      1.00      1.00     23723\n",
      "\n",
      "    accuracy                           1.00    111104\n",
      "   macro avg       1.00      1.00      1.00    111104\n",
      "weighted avg       1.00      1.00      1.00    111104\n",
      "\n"
     ]
    }
   ],
   "source": [
    "class_names = ['HVHA', 'HVLA', 'LVHA', 'LVLA']\n",
    "\n",
    "y_pred = lstm_model.predict(x_test)\n",
    "\n",
    "y_predict = []\n",
    "\n",
    "for i in range(len(y_pred)):\n",
    "    y_predict.append(np.argmax(y_pred[i]))\n",
    "\n",
    "y_predict = np.array(y_predict)\n",
    "yt_test = np.argmax(y_test, axis=1)\n",
    "\n",
    "cm = confusion_matrix(yt_test, y_predict)\n",
    "clr = classification_report(yt_test, y_predict)\n",
    "\n",
    "plt.figure(figsize=(8, 8))\n",
    "sns.heatmap(cm, annot=True, vmin=0, fmt='g', cbar=False, cmap='Blues', annot_kws={\"size\":14})\n",
    "plt.xticks(np.arange(4) + 0.5, class_names, fontsize=14)\n",
    "plt.yticks(np.arange(4) + 0.5, class_names, fontsize=14)\n",
    "plt.xlabel(\"Predicted\", fontsize=14)\n",
    "plt.ylabel(\"Actual\", fontsize=14)\n",
    "# plt.title(\"Confusion Matrix for LSTM Model\")\n",
    "plt.show()\n",
    "\n",
    "print(\"Classification Report:\\n----------------------\\n\", clr)"
   ]
  }
 ],
 "metadata": {
  "kernelspec": {
   "display_name": "Python 3",
   "language": "python",
   "name": "python3"
  },
  "language_info": {
   "codemirror_mode": {
    "name": "ipython",
    "version": 3
   },
   "file_extension": ".py",
   "mimetype": "text/x-python",
   "name": "python",
   "nbconvert_exporter": "python",
   "pygments_lexer": "ipython3",
   "version": "3.7.10"
  }
 },
 "nbformat": 4,
 "nbformat_minor": 5
}
